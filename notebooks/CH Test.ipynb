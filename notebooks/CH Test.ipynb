{
 "cells": [
  {
   "cell_type": "code",
   "execution_count": 1,
   "id": "da8db5e0-7807-4c9d-b3a2-a4b30e54af06",
   "metadata": {
    "scrolled": true
   },
   "outputs": [
    {
     "name": "stdout",
     "output_type": "stream",
     "text": [
      "Name: clickhouse-connect\n",
      "Version: 0.5.23\n",
      "Summary: ClickHouse core driver, SqlAlchemy, and Superset libraries\n",
      "Home-page: https://github.com/ClickHouse/clickhouse-connect\n",
      "Author: ClickHouse Inc.\n",
      "Author-email: clients@clickhouse.com\n",
      "License: Apache License 2.0\n",
      "Location: /opt/conda/lib/python3.11/site-packages\n",
      "Requires: certifi, lz4, pytz, urllib3, zstandard\n",
      "Required-by: \n",
      "Note: you may need to restart the kernel to use updated packages.\n"
     ]
    }
   ],
   "source": [
    "%pip show clickhouse-connect"
   ]
  },
  {
   "cell_type": "code",
   "execution_count": 1,
   "id": "31c41655-d51d-4a4a-9e3e-a786ec4d0abf",
   "metadata": {},
   "outputs": [],
   "source": [
    "import clickhouse_connect\n",
    "\n",
    "client = clickhouse_connect.get_client(host='clickhouse_server', username='altenar', password='altenar_ch_demo_517')"
   ]
  },
  {
   "cell_type": "code",
   "execution_count": 2,
   "id": "f11ac8d1-c142-4f72-9d9d-8ec487d6f066",
   "metadata": {},
   "outputs": [
    {
     "data": {
      "text/plain": [
       "''"
      ]
     },
     "execution_count": 2,
     "metadata": {},
     "output_type": "execute_result"
    }
   ],
   "source": [
    "client.command('USE gharchive')"
   ]
  },
  {
   "cell_type": "code",
   "execution_count": 3,
   "id": "07e02826-8df0-42a3-9c3b-a89f72f3be93",
   "metadata": {},
   "outputs": [
    {
     "data": {
      "text/plain": [
       "''"
      ]
     },
     "execution_count": 3,
     "metadata": {},
     "output_type": "execute_result"
    }
   ],
   "source": [
    "client.command('CREATE TABLE new_table (key UInt32, value String, metric Float64) ENGINE MergeTree ORDER BY key')"
   ]
  },
  {
   "cell_type": "code",
   "execution_count": 4,
   "id": "d5f51fba-d82d-49f4-b9f0-420abfb0e4d8",
   "metadata": {},
   "outputs": [
    {
     "data": {
      "text/plain": [
       "''"
      ]
     },
     "execution_count": 4,
     "metadata": {},
     "output_type": "execute_result"
    }
   ],
   "source": [
    "client.command('DROP TABLE new_table;')"
   ]
  },
  {
   "cell_type": "code",
   "execution_count": null,
   "id": "3af170b7-3387-47a7-9fde-63424bf3b09b",
   "metadata": {},
   "outputs": [],
   "source": []
  }
 ],
 "metadata": {
  "kernelspec": {
   "display_name": "Python 3 (ipykernel)",
   "language": "python",
   "name": "python3"
  },
  "language_info": {
   "codemirror_mode": {
    "name": "ipython",
    "version": 3
   },
   "file_extension": ".py",
   "mimetype": "text/x-python",
   "name": "python",
   "nbconvert_exporter": "python",
   "pygments_lexer": "ipython3",
   "version": "3.11.4"
  }
 },
 "nbformat": 4,
 "nbformat_minor": 5
}
