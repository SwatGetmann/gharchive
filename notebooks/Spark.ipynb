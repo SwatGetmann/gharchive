{
 "cells": [
  {
   "cell_type": "markdown",
   "id": "b470d347-fa79-46fd-afcf-3ef4771bb434",
   "metadata": {},
   "source": [
    "# Spark\n",
    "\n",
    "TODO:\n",
    "* union all jsons together\n",
    "    * see how much it is on the mem?\n",
    "* get the desired metrics\n",
    "* (?,*) push to Clickhouse for storage"
   ]
  },
  {
   "cell_type": "markdown",
   "id": "24002861-28b0-4605-af6c-3497e45b52a6",
   "metadata": {},
   "source": [
    "## Implementation\n"
   ]
  },
  {
   "cell_type": "code",
   "execution_count": 1,
   "id": "94da48ac-6437-4428-a214-9f4eb0e51e93",
   "metadata": {},
   "outputs": [],
   "source": [
    "import pathlib, os"
   ]
  },
  {
   "cell_type": "code",
   "execution_count": 2,
   "id": "e6b20dd5-2ba3-4766-8753-0c76cccfba54",
   "metadata": {},
   "outputs": [],
   "source": [
    "spark_resources_path = \"/home/jovyan/work/data/\""
   ]
  },
  {
   "cell_type": "code",
   "execution_count": 3,
   "id": "6ec15f74-1c24-4e4e-b3da-6f62f45abfe1",
   "metadata": {},
   "outputs": [],
   "source": [
    "# def gharchive_path(dt):\n",
    "#     return \"{:04d}-{:02d}-{:02d}-{}.json.gz\".format(dt.year, dt.month, dt.day, dt.hour)"
   ]
  },
  {
   "cell_type": "code",
   "execution_count": 4,
   "id": "770712e1-6bc6-4f77-8330-0bbbf700959f",
   "metadata": {},
   "outputs": [],
   "source": [
    "spark_resources_path_obj = pathlib.Path(spark_resources_path)"
   ]
  },
  {
   "cell_type": "code",
   "execution_count": 5,
   "id": "593e4ebb-b3e4-4225-b3f7-72b3e0354bf9",
   "metadata": {},
   "outputs": [],
   "source": [
    "import pyspark\n",
    "\n",
    "from pyspark.sql import SparkSession\n",
    "\n",
    "spark = SparkSession \\\n",
    "    .builder \\\n",
    "    .appName(\"Python Spark SQL basic example\") \\\n",
    "    .config(\"spark.some.config.option\", \"some-value\") \\\n",
    "    .getOrCreate()"
   ]
  },
  {
   "cell_type": "code",
   "execution_count": 7,
   "id": "e90d187b-f2f9-48b6-a944-8fac18578e72",
   "metadata": {},
   "outputs": [
    {
     "data": {
      "text/plain": [
       "['/home/jovyan/work/data/2023-07-27-0.json.gz',\n",
       " '/home/jovyan/work/data/2023-07-26-23.json.gz',\n",
       " '/home/jovyan/work/data/2023-07-27-2.json.gz',\n",
       " '/home/jovyan/work/data/2023-07-27-4.json.gz',\n",
       " '/home/jovyan/work/data/2023-07-27-8.json.gz',\n",
       " '/home/jovyan/work/data/2023-07-27-5.json.gz',\n",
       " '/home/jovyan/work/data/2023-07-27-6.json.gz',\n",
       " '/home/jovyan/work/data/2023-07-27-3.json.gz',\n",
       " '/home/jovyan/work/data/2023-07-27-1.json.gz',\n",
       " '/home/jovyan/work/data/2023-07-27-7.json.gz',\n",
       " '/home/jovyan/work/data/2023-07-27-9.json.gz',\n",
       " '/home/jovyan/work/data/2023-07-27-10.json.gz',\n",
       " '/home/jovyan/work/data/2023-07-27-11.json.gz',\n",
       " '/home/jovyan/work/data/2023-07-27-12.json.gz',\n",
       " '/home/jovyan/work/data/2023-07-27-13.json.gz',\n",
       " '/home/jovyan/work/data/2023-07-27-14.json.gz',\n",
       " '/home/jovyan/work/data/2023-07-27-15.json.gz',\n",
       " '/home/jovyan/work/data/2023-07-27-16.json.gz',\n",
       " '/home/jovyan/work/data/2023-07-27-17.json.gz',\n",
       " '/home/jovyan/work/data/2023-07-27-18.json.gz',\n",
       " '/home/jovyan/work/data/2023-07-27-19.json.gz',\n",
       " '/home/jovyan/work/data/2023-07-27-20.json.gz',\n",
       " '/home/jovyan/work/data/2023-07-27-21.json.gz',\n",
       " '/home/jovyan/work/data/2023-07-27-22.json.gz',\n",
       " '/home/jovyan/work/data/2023-07-27-23.json.gz',\n",
       " '/home/jovyan/work/data/2023-07-28-0.json.gz',\n",
       " '/home/jovyan/work/data/2023-07-28-1.json.gz',\n",
       " '/home/jovyan/work/data/2023-07-28-2.json.gz',\n",
       " '/home/jovyan/work/data/2023-07-28-3.json.gz']"
      ]
     },
     "execution_count": 7,
     "metadata": {},
     "output_type": "execute_result"
    }
   ],
   "source": [
    "paths = [str(path) for path in sorted(spark_resources_path_obj.glob(\"*.json.gz\"), key=os.path.getmtime)]\n",
    "paths"
   ]
  },
  {
   "cell_type": "code",
   "execution_count": 17,
   "id": "09a01b5c-e2d3-44b9-899e-cd4b4dd954aa",
   "metadata": {},
   "outputs": [
    {
     "data": {
      "text/plain": [
       "['/home/jovyan/work/data/2023-07-27-18.json.gz',\n",
       " '/home/jovyan/work/data/2023-07-27-19.json.gz',\n",
       " '/home/jovyan/work/data/2023-07-27-20.json.gz',\n",
       " '/home/jovyan/work/data/2023-07-27-21.json.gz',\n",
       " '/home/jovyan/work/data/2023-07-27-22.json.gz',\n",
       " '/home/jovyan/work/data/2023-07-27-23.json.gz',\n",
       " '/home/jovyan/work/data/2023-07-28-0.json.gz',\n",
       " '/home/jovyan/work/data/2023-07-28-1.json.gz',\n",
       " '/home/jovyan/work/data/2023-07-28-2.json.gz',\n",
       " '/home/jovyan/work/data/2023-07-28-3.json.gz']"
      ]
     },
     "execution_count": 17,
     "metadata": {},
     "output_type": "execute_result"
    }
   ],
   "source": [
    "paths[-10:]"
   ]
  },
  {
   "cell_type": "code",
   "execution_count": 18,
   "id": "c92e63ff-fbc3-46ea-8d9e-db0afc229760",
   "metadata": {},
   "outputs": [],
   "source": [
    "df = spark.read.json(paths[-10:])"
   ]
  },
  {
   "cell_type": "code",
   "execution_count": null,
   "id": "f6d94c80-cf9f-447d-98db-e447441e05f9",
   "metadata": {},
   "outputs": [],
   "source": [
    "# paths = spark_resources_path_obj.glob(\"*.json.gz\")\n",
    "# tpath = str(next(paths))\n",
    "# print(tpath)\n",
    "# df = spark.read.json(tpath)\n",
    "    "
   ]
  },
  {
   "cell_type": "code",
   "execution_count": 19,
   "id": "ef616307-3cd2-41b6-ba39-10d5824f506f",
   "metadata": {},
   "outputs": [
    {
     "name": "stdout",
     "output_type": "stream",
     "text": [
      "+--------------------+--------------------+-----------+--------------------+--------------------+------+--------------------+-----------------+\n",
      "|               actor|          created_at|         id|                 org|             payload|public|                repo|             type|\n",
      "+--------------------+--------------------+-----------+--------------------+--------------------+------+--------------------+-----------------+\n",
      "|{https://avatars....|2023-07-27T18:00:00Z|30723864809|                null|{started, null, n...|  true|{643819103, AbidH...|       WatchEvent|\n",
      "|{https://avatars....|2023-07-27T18:00:00Z|30723864812|                null|{null, 8d8a695447...|  true|{670881342, moyan...|        PushEvent|\n",
      "|{https://avatars....|2023-07-27T18:00:00Z|30723864821|                null|{null, a380680778...|  true|{603317401, token...|        PushEvent|\n",
      "|{https://avatars....|2023-07-27T18:00:00Z|30723864847|                null|{null, 3202b09329...|  true|{671166464, TheCa...|        PushEvent|\n",
      "|{https://avatars....|2023-07-27T18:00:00Z|30723864848|{https://avatars....|{null, 2b9374f3a0...|  true|{514247259, thxpr...|        PushEvent|\n",
      "|{https://avatars....|2023-07-27T18:00:00Z|30723864852|                null|{null, a224e928f9...|  true|{671540904, wlosa...|        PushEvent|\n",
      "|{https://avatars....|2023-07-27T18:00:00Z|30723864853|                null|{null, null, null...|  true|{671603706, uplau...|      CreateEvent|\n",
      "|{https://avatars....|2023-07-27T18:00:00Z|30723864854|{https://avatars....|{null, 53edcf7a89...|  true|{66552094, erasmu...|        PushEvent|\n",
      "|{https://avatars....|2023-07-27T18:00:00Z|30723864859|                null|{null, null, null...|  true|{671609040, henry...|      CreateEvent|\n",
      "|{https://avatars....|2023-07-27T18:00:00Z|30723864876|                null|{null, null, null...|  true|{671609041, Xasan...|      CreateEvent|\n",
      "|{https://avatars....|2023-07-27T18:00:00Z|30723864881|                null|{null, null, null...|  true|{671609043, Aliaa...|      CreateEvent|\n",
      "|{https://avatars....|2023-07-27T18:00:00Z|30723864892|{https://avatars....|{started, null, n...|  true|{109145553, conta...|       WatchEvent|\n",
      "|{https://avatars....|2023-07-27T18:00:00Z|30723864896|                null|{null, null, null...|  true|{671336758, dtslv...|      DeleteEvent|\n",
      "|{https://avatars....|2023-07-27T18:00:00Z|30723864909|                null|{null, 5f6d4970a6...|  true|{671290248, ayerl...|        PushEvent|\n",
      "|{https://avatars....|2023-07-27T18:00:00Z|30723864929|                null|{null, null, null...|  true|{329971644, trans...|        ForkEvent|\n",
      "|{https://avatars....|2023-07-27T18:00:00Z|30723864933|{https://avatars....|{started, null, n...|  true|{506861932, nvim-...|       WatchEvent|\n",
      "|{https://avatars....|2023-07-27T18:00:00Z|30723864938|{https://avatars....|{null, e14dd69e0b...|  true|{586373305, switc...|        PushEvent|\n",
      "|{https://avatars....|2023-07-27T18:00:00Z|30723864942|                null|{null, null, null...|  true|{671602985, Johns...|      CreateEvent|\n",
      "|{https://avatars....|2023-07-27T18:00:00Z|30723864945|{https://avatars....|{created, null, {...|  true|{501358328, intui...|IssueCommentEvent|\n",
      "|{https://avatars....|2023-07-27T18:00:00Z|30723864963|                null|{null, null, null...|  true|{671609035, supti...|      CreateEvent|\n",
      "+--------------------+--------------------+-----------+--------------------+--------------------+------+--------------------+-----------------+\n",
      "only showing top 20 rows\n",
      "\n"
     ]
    }
   ],
   "source": [
    "df.show()"
   ]
  },
  {
   "cell_type": "code",
   "execution_count": 20,
   "id": "d583d642-e714-4dfb-a628-71916d3a4df9",
   "metadata": {},
   "outputs": [
    {
     "data": {
      "text/plain": [
       "1479561"
      ]
     },
     "execution_count": 20,
     "metadata": {},
     "output_type": "execute_result"
    }
   ],
   "source": [
    "df.count()"
   ]
  },
  {
   "cell_type": "code",
   "execution_count": 21,
   "id": "7018d9ba-a9d1-4675-a3e7-a03c547abe85",
   "metadata": {},
   "outputs": [],
   "source": [
    "df.createOrReplaceTempView(\"activity\")"
   ]
  },
  {
   "cell_type": "code",
   "execution_count": 22,
   "id": "92d4487f-96c4-466c-8817-810cc129a330",
   "metadata": {},
   "outputs": [
    {
     "name": "stdout",
     "output_type": "stream",
     "text": [
      "+--------------------+--------------------+\n",
      "|     min(created_at)|     max(created_at)|\n",
      "+--------------------+--------------------+\n",
      "|2023-07-27T18:00:00Z|2023-07-28T03:59:59Z|\n",
      "+--------------------+--------------------+\n",
      "\n"
     ]
    }
   ],
   "source": [
    "spark.sql(\n",
    "    \"SELECT min(created_at), max(created_at) FROM activity\"\n",
    ").show(10)"
   ]
  },
  {
   "cell_type": "code",
   "execution_count": 23,
   "id": "dbdec748-6f36-45ab-935b-192c20256273",
   "metadata": {},
   "outputs": [
    {
     "name": "stdout",
     "output_type": "stream",
     "text": [
      "+----+--------+\n",
      "|hour|count(1)|\n",
      "+----+--------+\n",
      "|  18|  181467|\n",
      "|  19|  166557|\n",
      "|  20|  161624|\n",
      "|  21|  150205|\n",
      "|  22|  132519|\n",
      "|   0|  146356|\n",
      "|   2|  137783|\n",
      "|   1|  150680|\n",
      "|  23|  125156|\n",
      "|   3|  127214|\n",
      "+----+--------+\n",
      "\n"
     ]
    }
   ],
   "source": [
    "spark.sql(\n",
    "    \"SELECT hour(created_at) as hour, count(*) FROM activity group by hour\"\n",
    ").show(10)"
   ]
  },
  {
   "cell_type": "code",
   "execution_count": 26,
   "id": "6687a3ae-9889-4b21-aee8-ccd179d23404",
   "metadata": {},
   "outputs": [
    {
     "name": "stdout",
     "output_type": "stream",
     "text": [
      "+--------------------+--------+\n",
      "|                type|count(1)|\n",
      "+--------------------+--------+\n",
      "|           PushEvent|  878497|\n",
      "|         CreateEvent|  179214|\n",
      "|    PullRequestEvent|  101843|\n",
      "|          WatchEvent|   70209|\n",
      "|   IssueCommentEvent|   68660|\n",
      "|         DeleteEvent|   44482|\n",
      "|PullRequestReview...|   38227|\n",
      "|         IssuesEvent|   30602|\n",
      "|PullRequestReview...|   23592|\n",
      "|           ForkEvent|   17069|\n",
      "|        ReleaseEvent|    8627|\n",
      "|  CommitCommentEvent|    7350|\n",
      "|         PublicEvent|    4931|\n",
      "|         MemberEvent|    3625|\n",
      "|         GollumEvent|    2633|\n",
      "+--------------------+--------+\n",
      "\n"
     ]
    }
   ],
   "source": [
    "spark.sql(\n",
    "    \"SELECT type, count(*) FROM activity group by type order by count(*) desc\"\n",
    ").show(50)"
   ]
  },
  {
   "cell_type": "markdown",
   "id": "e59ce70b-1458-4170-b4ea-0373c6117344",
   "metadata": {},
   "source": [
    "## Metrics"
   ]
  },
  {
   "cell_type": "markdown",
   "id": "af1ac49f-480f-4551-a63d-e7c2070df511",
   "metadata": {},
   "source": [
    "* List of Developers that own more than one repository;\n",
    "* List of Developers who did more than one commit in a day, ordered by name and number of commits;\n",
    "* List of Developers with less than one commit in a day;\n",
    "* Total Developers grouped by gender;\n",
    "* Total projects with more than 10 members;"
   ]
  },
  {
   "cell_type": "markdown",
   "id": "65bafa75-e061-4e65-a30a-978df402df77",
   "metadata": {},
   "source": [
    "### LoD - Own > 1 Repo"
   ]
  },
  {
   "cell_type": "code",
   "execution_count": 40,
   "id": "2288c97a-ff67-4ced-ba63-d6b1f2f29162",
   "metadata": {
    "scrolled": true
   },
   "outputs": [
    {
     "name": "stdout",
     "output_type": "stream",
     "text": [
      "+----------------+---------+-------------------+---------+--------------------+-----------------+\n",
      "|   display_login|       id|              login|       id|                name|             type|\n",
      "+----------------+---------+-------------------+---------+--------------------+-----------------+\n",
      "|   HippomasAKiB1|132694624|      HippomasAKiB1|643819103|AbidHasanPiash/bh...|       WatchEvent|\n",
      "|        moyan222|140571676|           moyan222|670881342|moyan222/moyan222...|        PushEvent|\n",
      "|       tokenhash|100255150|          tokenhash|603317401|tokenhash/twitter...|        PushEvent|\n",
      "|     TheCamBloch|129989249|        TheCamBloch|671166464|TheCamBloch/Jetso...|        PushEvent|\n",
      "|     peterpolman|  2378695|        peterpolman|514247259|thxprotocol/monorepo|        PushEvent|\n",
      "|       wlosantos| 21031611|          wlosantos|671540904|  wlosantos/rails-CI|        PushEvent|\n",
      "|           uplau|139003180|              uplau|671603706|uplau/rust-templa...|      CreateEvent|\n",
      "|         wrygiel|  2168535|            wrygiel| 66552094|erasmus-without-p...|        PushEvent|\n",
      "|      henrytirla| 18648533|         henrytirla|671609040|henrytirla/Tradin...|      CreateEvent|\n",
      "|       Xasan6988| 42476631|          Xasan6988|671609041|  Xasan6988/testovoe|      CreateEvent|\n",
      "|         Aliaaxx|125764832|            Aliaaxx|671609043|Aliaaxx/alx-pre_c...|      CreateEvent|\n",
      "|          nfbyte| 63999528|             nfbyte|109145553|   containers/podman|       WatchEvent|\n",
      "|          dtslvr|  4159106|             dtslvr|671336758|dtslvr/ghostfolio...|      DeleteEvent|\n",
      "|        ayerland|101513642|           ayerland|671290248|ayerland/ayerland...|        PushEvent|\n",
      "|     Edvinas1122| 35561374|        Edvinas1122|329971644|transitive-bullsh...|        ForkEvent|\n",
      "|         Times-Z| 44286581|            Times-Z|506861932|nvim-lua/kickstar...|       WatchEvent|\n",
      "|  github-actions| 41898282|github-actions[bot]|586373305|switchcollab/Swit...|        PushEvent|\n",
      "|Johnselastin7854| 77019516|   Johnselastin7854|671602985|Johnselastin7854/...|      CreateEvent|\n",
      "|    codesee-maps| 86324825|  codesee-maps[bot]|501358328|intuita-inc/intui...|IssueCommentEvent|\n",
      "|    suptimusfika| 48064134|       suptimusfika|671609035|suptimusfika/supt...|      CreateEvent|\n",
      "+----------------+---------+-------------------+---------+--------------------+-----------------+\n",
      "only showing top 20 rows\n",
      "\n"
     ]
    }
   ],
   "source": [
    "df.select(\n",
    "    df[\"actor.display_login\"],\n",
    "    df[\"actor.id\"],\n",
    "    df[\"actor.login\"],\n",
    "    df[\"repo.id\"],\n",
    "    df[\"repo.name\"],\n",
    "    df[\"type\"]\n",
    ").show(20)"
   ]
  },
  {
   "cell_type": "code",
   "execution_count": 42,
   "id": "cd5a9103-4a3c-454d-a520-ed24a8b0319f",
   "metadata": {},
   "outputs": [],
   "source": [
    "split_col = pyspark.sql.functions.split(df['repo.name'], '/')\n",
    "\n",
    "df = df.withColumn('repo_author', split_col.getItem(0))\n",
    "df = df.withColumn('repo_name', split_col.getItem(1))"
   ]
  },
  {
   "cell_type": "code",
   "execution_count": 44,
   "id": "9bef3db2-1f43-474b-ac40-bc093570fa50",
   "metadata": {},
   "outputs": [],
   "source": [
    "df.createOrReplaceTempView(\"activity\")"
   ]
  },
  {
   "cell_type": "code",
   "execution_count": 48,
   "id": "d84740bb-9b58-4f87-a8a3-d01a9598b01a",
   "metadata": {},
   "outputs": [
    {
     "name": "stdout",
     "output_type": "stream",
     "text": [
      "+--------------------+-----------------+-----------+\n",
      "|         repo_author|total_repo_events|total_repos|\n",
      "+--------------------+-----------------+-----------+\n",
      "|     direwolf-github|             7643|       1163|\n",
      "|      pmacik-testing|             2724|        553|\n",
      "| learn-co-curriculum|              748|        473|\n",
      "|           microsoft|             5106|        416|\n",
      "| redhat-appstudio-qe|             1901|        281|\n",
      "|tencentcloud-sdk-php|              471|        236|\n",
      "|              google|             1254|        207|\n",
      "|              apache|             2541|        187|\n",
      "|          tf-vcs-e2e|              512|        174|\n",
      "|    msft-mirror-aosp|              295|        172|\n",
      "|                Mu-L|              475|        170|\n",
      "|                 KDE|              323|        159|\n",
      "|         conda-forge|              977|        155|\n",
      "|             kkpan11|              456|        154|\n",
      "|        repo-rangers|              150|        150|\n",
      "|              sarvex|              670|        147|\n",
      "|               Azure|             2378|        147|\n",
      "|           goxr3plus|              142|        140|\n",
      "|c3-github-integra...|              136|        136|\n",
      "|               bcgov|             1558|        132|\n",
      "|            acciojob|              439|        127|\n",
      "|           AdobeDocs|              158|        122|\n",
      "|        renovate-bot|              348|        122|\n",
      "|        mate-academy|              704|        118|\n",
      "| GoogleCloudPlatform|             1007|        117|\n",
      "|    snek-testing-bot|              212|        108|\n",
      "|         Drlordbasil|              400|        108|\n",
      "|regro-cf-autotick...|              236|        108|\n",
      "|          r-universe|              159|        101|\n",
      "|          slskopytko|              368|        101|\n",
      "|     crowdbotics-dev|              194|         98|\n",
      "|           canonical|              402|         94|\n",
      "|every-politician-...|              247|         92|\n",
      "|linux-mailinglist...|              236|         91|\n",
      "|         aws-samples|              229|         90|\n",
      "|       4GeeksAcademy|              218|         90|\n",
      "|          NetAppDocs|              223|         89|\n",
      "|   curseforge-mirror|              852|         89|\n",
      "|      speakeasy-sdks|              269|         84|\n",
      "|                 aws|             1201|         83|\n",
      "|      snoopycrimecop|              200|         83|\n",
      "|         isomerpages|              931|         82|\n",
      "|    facebookresearch|              500|         82|\n",
      "|           openshift|             1725|         79|\n",
      "|     aws-aemilia-pdx|              159|         79|\n",
      "|          googleapis|             1244|         76|\n",
      "|               hmcts|              291|         75|\n",
      "|             awslabs|              478|         73|\n",
      "|      e2eTestPostman|              192|         72|\n",
      "|           newstools|             1665|         71|\n",
      "+--------------------+-----------------+-----------+\n",
      "only showing top 50 rows\n",
      "\n"
     ]
    }
   ],
   "source": [
    "spark.sql(\n",
    "    \"\"\"\n",
    "    SELECT \n",
    "        repo_author, \n",
    "        count(repo_name) as total_repo_events, \n",
    "        count(distinct repo_name) as total_repos \n",
    "    FROM activity \n",
    "    GROUP BY repo_author\n",
    "    HAVING total_repos > 1\n",
    "    ORDER BY total_repos DESC\n",
    "    \"\"\"\n",
    ").show(50)"
   ]
  },
  {
   "cell_type": "code",
   "execution_count": 49,
   "id": "ed5d1b11-408a-4ec8-8bdc-32b8e688427c",
   "metadata": {},
   "outputs": [
    {
     "name": "stdout",
     "output_type": "stream",
     "text": [
      "+---------------------------+\n",
      "|count(DISTINCT repo_author)|\n",
      "+---------------------------+\n",
      "|                      38046|\n",
      "+---------------------------+\n",
      "\n"
     ]
    }
   ],
   "source": [
    "spark.sql(\n",
    "    \"\"\"\n",
    "    SELECT count(distinct sq.repo_author) from \n",
    "    (\n",
    "        SELECT \n",
    "            repo_author, \n",
    "            count(repo_name) as total_repo_events, \n",
    "            count(distinct repo_name) as total_repos \n",
    "        FROM activity \n",
    "        GROUP BY repo_author\n",
    "        HAVING total_repos > 1\n",
    "        ORDER BY total_repos DESC\n",
    "    ) sq\n",
    "    \"\"\"\n",
    ").show(50)"
   ]
  },
  {
   "cell_type": "markdown",
   "id": "3dd52ef1-757b-430b-b32f-6d719edfb403",
   "metadata": {
    "jp-MarkdownHeadingCollapsed": true
   },
   "source": [
    "#### Limitations & Problems\n",
    "\n",
    "1. As the snapshots in GHARCHIVE are hourly-based, there is __no data__ about the past activity for the repositories. \\\n",
    "So without the past activity, the number of owned repos is incomplete and can be based only on the activities, that we've crawled & stored. \\\n",
    "On how to overcome this, please read the next section, `How can it be improved?`"
   ]
  },
  {
   "cell_type": "markdown",
   "id": "71b8896f-f095-47db-8d85-d2c350bd6901",
   "metadata": {},
   "source": [
    "#### How can it be improved?\n",
    "\n",
    "* Get bigger slice of data - and do the next thing:\n",
    "  * Store daily snapshots of all unique combinations of `date`, `repo.author`, `repo.name`\n",
    "  * Provide the metrics by getting the global `count(distinct repo.name)` aggregation on group of `repo.author`-s"
   ]
  },
  {
   "cell_type": "markdown",
   "id": "5307fbf6-060d-4178-9974-8550ba9c154e",
   "metadata": {},
   "source": [
    "### LoD - Did > 1 Commit a day"
   ]
  },
  {
   "cell_type": "markdown",
   "id": "69c08268-23ac-46b3-8720-29fb61b3a294",
   "metadata": {},
   "source": [
    "https://stackoverflow.com/questions/64605066/explode-array-with-nested-array-raw-spark-sql"
   ]
  },
  {
   "cell_type": "markdown",
   "id": "20eaa9a6-cd50-4cc6-93a4-54d50022b8d4",
   "metadata": {},
   "source": [
    "#### Notes\n",
    "\n",
    "1. Commits are present inside `payload.commits.author.name`.\\\n",
    "Given the hourly and typized nature of the dataset, we can:\n",
    "    * Filter by `type`, leaving only `PushEvent`-s\n",
    "    * Explode author names\n",
    "    * Get the count aggregation"
   ]
  },
  {
   "cell_type": "markdown",
   "id": "87be832d-8fb2-4188-ac08-708429bd28c6",
   "metadata": {},
   "source": [
    "#### Impl"
   ]
  },
  {
   "cell_type": "code",
   "execution_count": 96,
   "id": "b2d009ea-16ce-427c-a005-19dc69647649",
   "metadata": {},
   "outputs": [
    {
     "name": "stdout",
     "output_type": "stream",
     "text": [
      "+--------------------+--------------------+----------+--------------------+--------------------+\n",
      "|                name|                 ref|  ref_type|              review|                type|\n",
      "+--------------------+--------------------+----------+--------------------+--------------------+\n",
      "|                null|                null|      null|                null|          WatchEvent|\n",
      "|          [moyan222]|     refs/heads/main|      null|                null|           PushEvent|\n",
      "|         [tokenhash]|     refs/heads/main|      null|                null|           PushEvent|\n",
      "|       [TheCamBloch]|     refs/heads/main|      null|                null|           PushEvent|\n",
      "|             [Peter]|     refs/heads/safe|      null|                null|           PushEvent|\n",
      "|       [wendellopes]|refs/heads/featur...|      null|                null|           PushEvent|\n",
      "|                null|     lib-default-use|       tag|                null|         CreateEvent|\n",
      "|[DEV Registry Ser...|   refs/heads/master|      null|                null|           PushEvent|\n",
      "|                null|                null|repository|                null|         CreateEvent|\n",
      "|                null|                null|repository|                null|         CreateEvent|\n",
      "|                null|                null|repository|                null|         CreateEvent|\n",
      "|                null|                null|      null|                null|          WatchEvent|\n",
      "|                null|             patch-1|    branch|                null|         DeleteEvent|\n",
      "|           [preciad]|   refs/heads/master|      null|                null|           PushEvent|\n",
      "|                null|                null|      null|                null|           ForkEvent|\n",
      "|                null|                null|      null|                null|          WatchEvent|\n",
      "|[github-actions[b...| refs/heads/gh-pages|      null|                null|           PushEvent|\n",
      "|                null|          new-brznch|    branch|                null|         CreateEvent|\n",
      "|                null|                null|      null|                null|   IssueCommentEvent|\n",
      "|                null|                main|    branch|                null|         CreateEvent|\n",
      "|                null|                null|repository|                null|         CreateEvent|\n",
      "|                null|                main|    branch|                null|         CreateEvent|\n",
      "|[github-actions[b...|   refs/heads/output|      null|                null|           PushEvent|\n",
      "|                null|              master|    branch|                null|         CreateEvent|\n",
      "|                null| devops/add-workflow|    branch|                null|         CreateEvent|\n",
      "|     [hunterkleppek]|     refs/heads/main|      null|                null|           PushEvent|\n",
      "|       [Meldarkbini]|     refs/heads/main|      null|                null|           PushEvent|\n",
      "|           [Rajnish]|   refs/heads/master|      null|                null|           PushEvent|\n",
      "|   [luisj@sciww.com]|     refs/heads/main|      null|                null|           PushEvent|\n",
      "|        [Greg Flynn]|   refs/heads/master|      null|                null|           PushEvent|\n",
      "|                null|           sell-item|    branch|                null|         DeleteEvent|\n",
      "|[sean-morris, sea...|     refs/heads/main|      null|                null|           PushEvent|\n",
      "|                null|                null|      null|                null|        ReleaseEvent|\n",
      "|                null|                null|      null|                null|PullRequestReview...|\n",
      "|                null|                null|repository|                null|         CreateEvent|\n",
      "|                null|                main|    branch|                null|         DeleteEvent|\n",
      "|                null|                null|      null|                null|    PullRequestEvent|\n",
      "|               [Yui]|     refs/heads/main|      null|                null|           PushEvent|\n",
      "| [Surenjanath Singh]|     refs/heads/main|      null|                null|           PushEvent|\n",
      "|             [JuanM]|     refs/heads/main|      null|                null|           PushEvent|\n",
      "|                null|                null|      null|                null|    PullRequestEvent|\n",
      "|   [Eddie Andersson]|     refs/heads/main|      null|                null|           PushEvent|\n",
      "|                null|                null|repository|                null|         CreateEvent|\n",
      "|     [anonymous-tld]|     refs/heads/main|      null|                null|           PushEvent|\n",
      "|                null|                null|      null|                null|         IssuesEvent|\n",
      "|                null|                null|      null|                null|         IssuesEvent|\n",
      "|          [cypher03]|     refs/heads/main|      null|                null|           PushEvent|\n",
      "|                null|                null|repository|                null|         CreateEvent|\n",
      "|                null|                null|      null|{{{https://github...|PullRequestReview...|\n",
      "|            [ZXC676]|     refs/heads/main|      null|                null|           PushEvent|\n",
      "+--------------------+--------------------+----------+--------------------+--------------------+\n",
      "only showing top 50 rows\n",
      "\n"
     ]
    }
   ],
   "source": [
    "df.select(\n",
    "    df[\"payload.commits.author.name\"],\n",
    "    df[\"payload.ref\"],\n",
    "    df[\"payload.ref_type\"],\n",
    "    df[\"payload.review\"],\n",
    "    df[\"type\"],\n",
    ").show(50)"
   ]
  },
  {
   "cell_type": "code",
   "execution_count": 71,
   "id": "ea245185-6ac0-4e95-b644-8d335bbb7633",
   "metadata": {},
   "outputs": [
    {
     "name": "stdout",
     "output_type": "stream",
     "text": [
      "+---------------+--------------------+\n",
      "|created_at_date|         author_name|\n",
      "+---------------+--------------------+\n",
      "|     2023-07-27|            moyan222|\n",
      "|     2023-07-27|           tokenhash|\n",
      "|     2023-07-27|         TheCamBloch|\n",
      "|     2023-07-27|               Peter|\n",
      "|     2023-07-27|         wendellopes|\n",
      "|     2023-07-27|DEV Registry Service|\n",
      "|     2023-07-27|DEV Registry Service|\n",
      "|     2023-07-27|             preciad|\n",
      "|     2023-07-27| github-actions[bot]|\n",
      "|     2023-07-27| github-actions[bot]|\n",
      "+---------------+--------------------+\n",
      "only showing top 10 rows\n",
      "\n"
     ]
    }
   ],
   "source": [
    "spark.sql(\n",
    "    \"\"\"\n",
    "    SELECT\n",
    "        date(created_at) as created_at_date,\n",
    "        explode(payload.commits.author.name) as author_name\n",
    "    FROM activity\n",
    "    WHERE \n",
    "        type = 'PushEvent'\n",
    "    \"\"\"\n",
    ").show(10)"
   ]
  },
  {
   "cell_type": "code",
   "execution_count": 72,
   "id": "06810fb5-e4df-465e-ab8f-74b7513f04f6",
   "metadata": {},
   "outputs": [
    {
     "name": "stdout",
     "output_type": "stream",
     "text": [
      "+----------+-------------------+-------------+\n",
      "|      date|        author_name|total_commits|\n",
      "+----------+-------------------+-------------+\n",
      "|2023-07-28|github-actions[bot]|        64469|\n",
      "|2023-07-27|github-actions[bot]|        35880|\n",
      "|2023-07-27|        Upptime Bot|        27881|\n",
      "|2023-07-28|        Upptime Bot|        13536|\n",
      "|2023-07-27|      renovate[bot]|        10954|\n",
      "|2023-07-27|           sgou1969|         8488|\n",
      "|2023-07-27|    dependabot[bot]|         8071|\n",
      "|2023-07-28|           sgou1969|         6061|\n",
      "|2023-07-28|      renovate[bot]|         5313|\n",
      "|2023-07-27|         readme-bot|         5125|\n",
      "+----------+-------------------+-------------+\n",
      "only showing top 10 rows\n",
      "\n"
     ]
    }
   ],
   "source": [
    "spark.sql(\n",
    "    \"\"\"\n",
    "    SELECT \n",
    "        sq.created_at_date as date,\n",
    "        sq.author_name, \n",
    "        count(*) total_commits from \n",
    "    (\n",
    "        SELECT\n",
    "            date(created_at) as created_at_date,\n",
    "            explode(payload.commits.author.name) as author_name\n",
    "        FROM activity\n",
    "        WHERE \n",
    "            type = 'PushEvent'\n",
    "    ) sq\n",
    "    GROUP BY \n",
    "        date, \n",
    "        sq.author_name\n",
    "    HAVING total_commits > 1\n",
    "    ORDER BY \n",
    "        total_commits DESC, \n",
    "        author_name DESC\n",
    "    \"\"\"\n",
    ").show(10)"
   ]
  },
  {
   "cell_type": "markdown",
   "id": "18932501-296e-4b93-be2d-9f0281498319",
   "metadata": {},
   "source": [
    "#### Limitations & Problems\n",
    "\n",
    "1. Potentially, subquery usage in Spark is not a good practice. Yet, it may be used for prototype reasons.\n",
    "2. We have to additionally group by date, because we have to provide DAILY number of commits."
   ]
  },
  {
   "cell_type": "markdown",
   "id": "ac1e423e-f7a2-4fd9-9edc-aa77c48cb8ed",
   "metadata": {},
   "source": [
    "#### How can it be improved?\n",
    "\n",
    "* Probably, we should get rid of bot entities :)"
   ]
  },
  {
   "cell_type": "markdown",
   "id": "83ea7c0a-dfa2-4d9e-bfcb-3cf3dc277ff7",
   "metadata": {},
   "source": [
    "### [!!!] LoD - < 1 commit in a day"
   ]
  },
  {
   "cell_type": "markdown",
   "id": "12672694-c8e5-447a-83e7-dc98bc2b6b5b",
   "metadata": {},
   "source": [
    "#### Notes\n",
    "\n",
    "* The trick is that an author can have 1 commit in, let's say, 25h time span, which is more than 1 day. \\\n",
    "So we should regroup data not by a date, but by consecutive dataspansm which are 25h each...\n",
    "* For to test it, we need at least __2 days worth of data__! \\\n",
    "For now I have complications to get this data, so I skip the metric."
   ]
  },
  {
   "cell_type": "markdown",
   "id": "93029c1f-e6bb-45d1-90ae-cb48ac248536",
   "metadata": {},
   "source": [
    "#### Impl"
   ]
  },
  {
   "cell_type": "code",
   "execution_count": 73,
   "id": "41a219e8-f00a-4c5b-9df1-6283cef3ae19",
   "metadata": {},
   "outputs": [
    {
     "name": "stdout",
     "output_type": "stream",
     "text": [
      "+----------+--------------------+-------------+\n",
      "|      date|         author_name|total_commits|\n",
      "+----------+--------------------+-------------+\n",
      "|2023-07-28|            🤖 R2-D2|            1|\n",
      "|2023-07-28|      💵 moneybot 💵|            1|\n",
      "|2023-07-28| 🐼 Samrose Ahmed 🐼|            1|\n",
      "|2023-07-27|𒀳 Scribe of the ...|            1|\n",
      "|2023-07-27|                  ｚ|            1|\n",
      "|2023-07-28|              황지환|            1|\n",
      "|2023-07-28|              홍세빈|            1|\n",
      "|2023-07-27|              현기홍|            1|\n",
      "|2023-07-28|                현경|            1|\n",
      "|2023-07-27|              한창수|            1|\n",
      "+----------+--------------------+-------------+\n",
      "only showing top 10 rows\n",
      "\n"
     ]
    }
   ],
   "source": [
    "spark.sql(\n",
    "    \"\"\"\n",
    "    SELECT \n",
    "        sq.created_at_date as date,\n",
    "        sq.author_name, \n",
    "        count(*) total_commits from \n",
    "    (\n",
    "        SELECT\n",
    "            date(created_at) as created_at_date,\n",
    "            explode(payload.commits.author.name) as author_name\n",
    "        FROM activity\n",
    "        WHERE \n",
    "            type = 'PushEvent'\n",
    "    ) sq\n",
    "    GROUP BY \n",
    "        date, \n",
    "        sq.author_name\n",
    "    HAVING total_commits <= 1\n",
    "    ORDER BY \n",
    "        total_commits DESC, \n",
    "        author_name DESC\n",
    "    \"\"\"\n",
    ").show(10)"
   ]
  },
  {
   "cell_type": "markdown",
   "id": "a4b315c5-527f-4371-b8ea-73da9e4b2490",
   "metadata": {},
   "source": [
    "### [!!!] Total Developers grouped by gender"
   ]
  },
  {
   "cell_type": "markdown",
   "id": "5c91aaa9-7336-466d-bff9-d55cb58cae3a",
   "metadata": {},
   "source": [
    "#### Notes\n",
    "\n",
    "* Proabably can be done via `user[profile_pronouns]` , but for EACH unique GitHub User... That's just dumb.\n",
    "* I haven't found such info (sex,gender, pronouns) in the dataset."
   ]
  },
  {
   "cell_type": "code",
   "execution_count": null,
   "id": "48613a12-5f9e-41b2-b4e8-90f0b94ecc6c",
   "metadata": {},
   "outputs": [],
   "source": []
  },
  {
   "cell_type": "markdown",
   "id": "38145860-9e8c-4397-918d-ab40b4138cbb",
   "metadata": {},
   "source": [
    "### Total projects with more than 10 members"
   ]
  },
  {
   "cell_type": "markdown",
   "id": "7776cedc-b8d0-41b1-8642-806a3cf61cd8",
   "metadata": {},
   "source": [
    "#### Notes\n",
    "\n",
    "* Where to find members ???"
   ]
  },
  {
   "cell_type": "markdown",
   "id": "e108f9cc-94ff-4a38-b5ad-e07afbc779c3",
   "metadata": {},
   "source": [
    "#### IMPL\n"
   ]
  },
  {
   "cell_type": "code",
   "execution_count": 98,
   "id": "fcf0fc92-eb7e-4417-b58a-dc60974a198b",
   "metadata": {},
   "outputs": [
    {
     "name": "stdout",
     "output_type": "stream",
     "text": [
      "+-----------+--------------------+\n",
      "|       type|              member|\n",
      "+-----------+--------------------+\n",
      "|MemberEvent|{https://avatars....|\n",
      "|MemberEvent|{https://avatars....|\n",
      "|MemberEvent|{https://avatars....|\n",
      "|MemberEvent|{https://avatars....|\n",
      "|MemberEvent|{https://avatars....|\n",
      "|MemberEvent|{https://avatars....|\n",
      "|MemberEvent|{https://avatars....|\n",
      "|MemberEvent|{https://avatars....|\n",
      "|MemberEvent|{https://avatars....|\n",
      "|MemberEvent|{https://avatars....|\n",
      "+-----------+--------------------+\n",
      "only showing top 10 rows\n",
      "\n"
     ]
    }
   ],
   "source": [
    "spark.sql(\n",
    "    \"\"\"\n",
    "    SELECT\n",
    "        type,\n",
    "        payload.member\n",
    "    FROM activity\n",
    "    WHERE\n",
    "        payload.member is not NULL\n",
    "        \n",
    "    \"\"\"\n",
    ").show(10)"
   ]
  },
  {
   "cell_type": "code",
   "execution_count": 114,
   "id": "4b2533e2-1e64-422d-9833-9d48b4c7e2a7",
   "metadata": {},
   "outputs": [
    {
     "name": "stdout",
     "output_type": "stream",
     "text": [
      "+--------------------+---------+-------------------+----+------+--------------------+--------------------+--------------------+-----------+\n",
      "|              member|       id|              login|type|action|               login|               login|                name|       type|\n",
      "+--------------------+---------+-------------------+----+------+--------------------+--------------------+--------------------+-----------+\n",
      "|{https://avatars....|107618870|            bsozeau|User| added|                null|      noirblancrouge|noirblancrouge/Pa...|MemberEvent|\n",
      "|{https://avatars....|132350039|         RolivhuwaN|User| added|                null|        Spinofficial| Spinofficial/printf|MemberEvent|\n",
      "|{https://avatars....|132908419|        stheeCamile|User| added|                null|              faellm| faellm/calculoRotas|MemberEvent|\n",
      "|{https://avatars....|140736057|       bevin-crypto|User| added|                null|       Programmer231|Programmer231/Roc...|MemberEvent|\n",
      "|{https://avatars....|136852899|    AntonioEstrada0|User| added|                null|              Drefdu|    Drefdu/DentalNew|MemberEvent|\n",
      "|{https://avatars....|125447139|          udeme-goc|User| added|                null|            code-X16|code-X16/simple_s...|MemberEvent|\n",
      "|{https://avatars....|130376768|           MadDog83|User| added|                null|            maxDes23|maxDes23/project-...|MemberEvent|\n",
      "|{https://avatars....|117692619|           FedeSabi|User| added|                null|            Diego582|Diego582/ideas-pi...|MemberEvent|\n",
      "|{https://avatars....| 32850064|     caseylivingood|User| added|      CaravanStudios|        caravansteve|CaravanStudios/dc...|MemberEvent|\n",
      "|{https://avatars....| 67462827|     IbrahimBagalwa|User| added|                null|           devfabien|devfabien/Gym-git...|MemberEvent|\n",
      "|{https://avatars....| 35641351|              gnmyt|User| added|                null|            luca-ght|luca-ght/NametheFlag|MemberEvent|\n",
      "|{https://avatars....| 77671599|               ybf1|User| added|                null|          ilandroxxy|ilandroxxy/for_te...|MemberEvent|\n",
      "|{https://avatars....|134510152|       Ogah-Dominic|User| added|                null|         Ahmeddavids|Ahmeddavids/ChowF...|MemberEvent|\n",
      "|{https://avatars....| 49315386|           WWWarren|User| added|                null|        luke123adams| luke123adams/kudos2|MemberEvent|\n",
      "|{https://avatars....|140654198|      carolmorcisco|User| added|                null|             WebexCC|WebexCC/webexcc.g...|MemberEvent|\n",
      "|{https://avatars....|140634540|            jensorr|User| added|                null|         seyhosseini|seyhosseini/RA4-P...|MemberEvent|\n",
      "|{https://avatars....|108945706|            robbSab|User| added|         herobots-eu|               hrbts|herobots-eu/lut_ros2|MemberEvent|\n",
      "|{https://avatars....|134038076|     FelipeVitorinu|User| added|                null|      projetodumorro|projetodumorro/fr...|MemberEvent|\n",
      "|{https://avatars....|  1807411|            mhmanik|User| added|                null|          MijanurMim|MijanurMim/practi...|MemberEvent|\n",
      "|{https://avatars....|102827521|        UladzislauM|User| added|                null|           Sunagatov|Sunagatov/Online-...|MemberEvent|\n",
      "|{https://avatars....| 59380096|           noumecha|User| added|                null|            simo2013|   simo2013/depotdi2|MemberEvent|\n",
      "|{https://avatars....|126646740|Saurabh-Singh-Bisht|User| added|            acciojob|     acciojob-3[bot]|acciojob/hello-ac...|MemberEvent|\n",
      "|{https://avatars....|139406515|        Rockinkolin|User| added|                null|       UlfatKhalikov|  UlfatKhalikov/repo|MemberEvent|\n",
      "|{https://avatars....|134438420|            hmzsy27|User| added|                null|           aydaakcay|aydaakcay/TestPro...|MemberEvent|\n",
      "|{https://avatars....|130653136|    mervegulkahveci|User| added|                null|           aydaakcay|aydaakcay/TestPro...|MemberEvent|\n",
      "|{https://avatars....|107501786|      davidmuhumuza|User| added|                null|           nakasanje|nakasanje/my_records|MemberEvent|\n",
      "|{https://avatars....|140740824|      UlfatKhalikov|User| added|                null|         Rockinkolin|    Rockinkolin/Test|MemberEvent|\n",
      "|{https://avatars....|140723341|           jbot4400|User| added|                null|           jheddings|     jheddings/wxdat|MemberEvent|\n",
      "|{https://avatars....|140723341|           jbot4400|User| added|                null|           jheddings|   jheddings/pingdat|MemberEvent|\n",
      "|{https://avatars....|140740824|      UlfatKhalikov|User| added|                null|       StepanSekrier|StepanSekrier/inc...|MemberEvent|\n",
      "|{https://avatars....|140723341|           jbot4400|User| added|                null|           jheddings|jheddings/notes2n...|MemberEvent|\n",
      "|{https://avatars....|138398036|           klgs1234|User| added|       4GeeksAcademy|       4GeeksAcademy|4GeeksAcademy/kar...|MemberEvent|\n",
      "|{https://avatars....|140723341|           jbot4400|User| added|                null|           jheddings|    jheddings/juliet|MemberEvent|\n",
      "|{https://avatars....| 32040453|      shudipto-amin|User| added|                null|           mesaqlain|       mesaqlain/ccg|MemberEvent|\n",
      "|{https://avatars....|131667072|           sibell55|User| added|                null|           aydaakcay|aydaakcay/TestPro...|MemberEvent|\n",
      "|{https://avatars....| 58417734|             lexsvd|User| added|                null|             bkoscar|bkoscar/Real-Time...|MemberEvent|\n",
      "|{https://avatars....|134969451|             kj5210|User| added|                null|             Thomshu|Thomshu/TAK-Compu...|MemberEvent|\n",
      "|{https://avatars....| 77246159|   ErickMarroquin21|User| added|                null|          jiefengsun|jiefengsun/UPS-Po...|MemberEvent|\n",
      "|{https://avatars....| 15098808|           jahilton|User| added|      chanzuckerberg|           pablo-gar|chanzuckerberg/ce...|MemberEvent|\n",
      "|{https://avatars....| 76130958|         serhatgktp|User| added|  ibm-skills-network|  ibm-skills-network|ibm-skills-networ...|MemberEvent|\n",
      "|{https://avatars....|100840225|          ILYA-2606|User| added|                null|            ILYA2606|ILYA2606/Darkness...|MemberEvent|\n",
      "|{https://avatars....| 70247202|       Evan-Luo-jpg|User| added|                null|          hkim113005|     hkim113005/rise|MemberEvent|\n",
      "|{https://avatars....|130515840|           omer2613|User| added|                null|           aydaakcay|aydaakcay/TestPro...|MemberEvent|\n",
      "|{https://avatars....|130502398|           ocvillal|User| added|                null|             nmjxblw|nmjxblw/P5-Evolvi...|MemberEvent|\n",
      "|{https://avatars....|  6818023|     librarianrafia|User| added|SouthernMethodist...|SouthernMethodist...|SouthernMethodist...|MemberEvent|\n",
      "|{https://avatars....|128712250|     unaidedelf8777|User| added|                null|       musabgultekin|musabgultekin/fun...|MemberEvent|\n",
      "|{https://avatars....|116919138|     SvetlanaBeynik|User| added|                null|     rebekahcallkacz|rebekahcallkacz/c...|MemberEvent|\n",
      "|{https://avatars....|140734720|           NuNo1215|User| added|                null|           calebck21|calebck21/Gameristic|MemberEvent|\n",
      "|{https://avatars....|130515354|          S3L1MD3R3|User| added|                null|           aydaakcay|aydaakcay/TestPro...|MemberEvent|\n",
      "|{https://avatars....| 97423977|       Sarjan-Patel|User| added|                null|            mmbrezen|mmbrezen/CSC205Final|MemberEvent|\n",
      "+--------------------+---------+-------------------+----+------+--------------------+--------------------+--------------------+-----------+\n",
      "only showing top 50 rows\n",
      "\n"
     ]
    }
   ],
   "source": [
    "df.select(\n",
    "    df[\"payload.member\"],\n",
    "    df[\"payload.member.id\"],\n",
    "    df[\"payload.member.login\"],\n",
    "    df[\"payload.member.type\"],\n",
    "    df[\"payload.action\"],\n",
    "    df[\"org.login\"],\n",
    "    df[\"actor.login\"],\n",
    "    df[\"repo.name\"],\n",
    "    df[\"type\"],\n",
    ").filter(df[\"type\"] == 'MemberEvent').show(50)"
   ]
  },
  {
   "cell_type": "code",
   "execution_count": 118,
   "id": "a307acce-56be-4ac9-9468-52a5bd4cfad2",
   "metadata": {},
   "outputs": [
    {
     "name": "stdout",
     "output_type": "stream",
     "text": [
      "+--------------------+-------------------+\n",
      "|                name|total_member_logins|\n",
      "+--------------------+-------------------+\n",
      "|jgranadoscunoc/re...|                 29|\n",
      "|Jucer74/WebDevelo...|                 17|\n",
      "|hdtoledo/nodejs_a...|                 11|\n",
      "|InstrucJavaReclui...|                  9|\n",
      "|ChungLeba/nextjsv...|                  9|\n",
      "|iramgutierrez/433...|                  9|\n",
      "|emrchi/TestNGProj...|                  8|\n",
      "|aydaakcay/TestPro...|                  7|\n",
      "|ufuk-muhsiroglu/T...|                  7|\n",
      "|GoldenMEmre/com.w...|                  7|\n",
      "+--------------------+-------------------+\n",
      "only showing top 10 rows\n",
      "\n"
     ]
    }
   ],
   "source": [
    "spark.sql(\n",
    "    \"\"\"\n",
    "    SELECT\n",
    "        repo.name,\n",
    "        count(distinct payload.member.login) as total_member_logins\n",
    "    FROM activity\n",
    "    WHERE\n",
    "        type = 'MemberEvent'\n",
    "        and payload.action = 'added'\n",
    "    GROUP BY\n",
    "        repo.name\n",
    "    ORDER BY\n",
    "        total_member_logins DESC\n",
    "    \"\"\"\n",
    ").show(10)"
   ]
  },
  {
   "cell_type": "code",
   "execution_count": 119,
   "id": "96392795-70bf-4e24-b132-eff24abc2373",
   "metadata": {},
   "outputs": [
    {
     "name": "stdout",
     "output_type": "stream",
     "text": [
      "+----------+----+--------------------+-------------------+\n",
      "|      date|hour|                name|total_member_logins|\n",
      "+----------+----+--------------------+-------------------+\n",
      "|2023-07-27|  20|jgranadoscunoc/re...|                 21|\n",
      "|2023-07-28|   1|Jucer74/WebDevelo...|                 16|\n",
      "|2023-07-28|   1|InstrucJavaReclui...|                  9|\n",
      "|2023-07-27|  19|hdtoledo/nodejs_a...|                  9|\n",
      "|2023-07-27|  19|emrchi/TestNGProj...|                  7|\n",
      "|2023-07-27|  19|ufuk-muhsiroglu/T...|                  7|\n",
      "|2023-07-27|  18|aydaakcay/TestPro...|                  7|\n",
      "|2023-07-27|  18|GoldenMEmre/com.w...|                  7|\n",
      "|2023-07-27|  19|mehmetfilik/comWo...|                  6|\n",
      "|2023-07-27|  19|FabianoCarneiro/p...|                  6|\n",
      "+----------+----+--------------------+-------------------+\n",
      "only showing top 10 rows\n",
      "\n"
     ]
    }
   ],
   "source": [
    "spark.sql(\n",
    "    \"\"\"\n",
    "    SELECT\n",
    "        date(created_at) as date,\n",
    "        hour(created_at) as hour,\n",
    "        repo.name,\n",
    "        count(distinct payload.member.login) as total_member_logins\n",
    "    FROM activity\n",
    "    WHERE\n",
    "        type = 'MemberEvent'\n",
    "        and payload.action = 'added'\n",
    "    GROUP BY\n",
    "        date, hour, repo.name\n",
    "    ORDER BY\n",
    "        total_member_logins DESC\n",
    "    \"\"\"\n",
    ").show(10)"
   ]
  },
  {
   "cell_type": "code",
   "execution_count": 122,
   "id": "38db048e-cb7a-4fcf-83a3-d9dd75046e31",
   "metadata": {},
   "outputs": [
    {
     "name": "stdout",
     "output_type": "stream",
     "text": [
      "+----------+----+--------------------+--------------------+---------------+\n",
      "|      date|hour|          created_at|                name|    member_name|\n",
      "+----------+----+--------------------+--------------------+---------------+\n",
      "|2023-07-27|  18|2023-07-27T18:00:15Z|noirblancrouge/Pa...|        bsozeau|\n",
      "|2023-07-27|  18|2023-07-27T18:00:31Z| Spinofficial/printf|     RolivhuwaN|\n",
      "|2023-07-27|  18|2023-07-27T18:00:33Z| faellm/calculoRotas|    stheeCamile|\n",
      "|2023-07-27|  18|2023-07-27T18:00:39Z|Programmer231/Roc...|   bevin-crypto|\n",
      "|2023-07-27|  18|2023-07-27T18:00:41Z|    Drefdu/DentalNew|AntonioEstrada0|\n",
      "|2023-07-27|  18|2023-07-27T18:00:44Z|code-X16/simple_s...|      udeme-goc|\n",
      "|2023-07-27|  18|2023-07-27T18:01:13Z|maxDes23/project-...|       MadDog83|\n",
      "|2023-07-27|  18|2023-07-27T18:01:15Z|Diego582/ideas-pi...|       FedeSabi|\n",
      "|2023-07-27|  18|2023-07-27T18:01:16Z|CaravanStudios/dc...| caseylivingood|\n",
      "|2023-07-27|  18|2023-07-27T18:01:20Z|devfabien/Gym-git...| IbrahimBagalwa|\n",
      "+----------+----+--------------------+--------------------+---------------+\n",
      "only showing top 10 rows\n",
      "\n"
     ]
    }
   ],
   "source": [
    "spark.sql(\n",
    "    \"\"\"\n",
    "    SELECT\n",
    "        date(created_at) as date,\n",
    "        hour(created_at) as hour,\n",
    "        created_at,\n",
    "        repo.name,\n",
    "        payload.member.login as member_name\n",
    "    FROM activity\n",
    "    WHERE\n",
    "        type = 'MemberEvent'\n",
    "        and payload.action = 'added'\n",
    "    ORDER BY\n",
    "        date ASC,\n",
    "        hour ASC,\n",
    "        created_at ASC,\n",
    "        repo.name ASC,\n",
    "        member_name ASC\n",
    "    \"\"\"\n",
    ").show(10)"
   ]
  },
  {
   "cell_type": "markdown",
   "id": "95a35c5a-0d23-4572-b460-6a64a1acec15",
   "metadata": {
    "jp-MarkdownHeadingCollapsed": true
   },
   "source": [
    "#### Limitations & Problems\n",
    "\n",
    "1. As the snapshots in GHARCHIVE are hourly-based, there is __no data__ about the past activity for the repositories. \\\n",
    "So without the past activity, the number of members is incomplete and can be based only on the activities, like 'MemberEvent', that we've crawled & stored. \\\n",
    "On how to overcome this, please read the next section, `How can it be improved?`"
   ]
  },
  {
   "cell_type": "markdown",
   "id": "4bce98c5-2b5e-4301-bdaa-de66c582b554",
   "metadata": {},
   "source": [
    "#### How can it be improved?\n",
    "\n",
    "* Get bigger slice of data - and do the next thing:\n",
    "  * Store daily snapshots of all unique combinations of `date`, `repo`, `member`, 'action'\n",
    "  * Provide the metrics by getting the global `count(distinct member)` aggregation on group of `repo`-s"
   ]
  },
  {
   "cell_type": "code",
   "execution_count": null,
   "id": "8e44d0ad-ff5a-48dc-ba49-86aef461211d",
   "metadata": {},
   "outputs": [],
   "source": []
  },
  {
   "cell_type": "code",
   "execution_count": null,
   "id": "62e9677a-3380-42f2-b4af-579b07f186cc",
   "metadata": {},
   "outputs": [],
   "source": []
  },
  {
   "cell_type": "code",
   "execution_count": null,
   "id": "79ea64f0-0248-4800-926a-3760e7cc9bf4",
   "metadata": {},
   "outputs": [],
   "source": []
  }
 ],
 "metadata": {
  "kernelspec": {
   "display_name": "Python 3 (ipykernel)",
   "language": "python",
   "name": "python3"
  },
  "language_info": {
   "codemirror_mode": {
    "name": "ipython",
    "version": 3
   },
   "file_extension": ".py",
   "mimetype": "text/x-python",
   "name": "python",
   "nbconvert_exporter": "python",
   "pygments_lexer": "ipython3",
   "version": "3.11.4"
  }
 },
 "nbformat": 4,
 "nbformat_minor": 5
}
