{
 "cells": [
  {
   "cell_type": "markdown",
   "id": "b470d347-fa79-46fd-afcf-3ef4771bb434",
   "metadata": {},
   "source": [
    "# Spark, v2"
   ]
  },
  {
   "cell_type": "markdown",
   "id": "e5692492-3b52-4c21-b3c6-dad5f1a114e7",
   "metadata": {},
   "source": [
    "Massive attempt to run spark with jar files on current node in local mode, but no luck.\n",
    "\n",
    "You can skip this notebook."
   ]
  },
  {
   "cell_type": "markdown",
   "id": "24002861-28b0-4605-af6c-3497e45b52a6",
   "metadata": {},
   "source": [
    "## Implementation\n"
   ]
  },
  {
   "cell_type": "markdown",
   "id": "b470c0c4-bfd6-4805-bdcf-19bb2cddb133",
   "metadata": {},
   "source": [
    "### IMPORTANT NOTE!\n",
    "\n",
    "Due to very ppor machine I have, I have to read & process HOURLY packages instead of running spark for the whole day of even bigger period."
   ]
  },
  {
   "cell_type": "markdown",
   "id": "27fa4132-aaf0-4bb6-b37b-d94401ef3c26",
   "metadata": {},
   "source": [
    "### Impl"
   ]
  },
  {
   "cell_type": "code",
   "execution_count": 1,
   "id": "23584fe6-91a9-4821-9fbf-0f151a130b96",
   "metadata": {},
   "outputs": [],
   "source": [
    "import pathlib, os"
   ]
  },
  {
   "cell_type": "code",
   "execution_count": 2,
   "id": "ed8d8878-a7c5-4b16-9807-76e1e9dcd5e0",
   "metadata": {},
   "outputs": [],
   "source": [
    "spark_resources_path = \"/home/jovyan/work/data/\"\n",
    "spark_resources_path_obj = pathlib.Path(spark_resources_path)"
   ]
  },
  {
   "cell_type": "code",
   "execution_count": 3,
   "id": "76448ed8-fc10-4ec6-a9c1-b77237b8d9c6",
   "metadata": {},
   "outputs": [],
   "source": [
    "import pyspark\n",
    "\n",
    "from pyspark import SparkConf, SparkContext\n",
    "from pyspark.sql import SparkSession"
   ]
  },
  {
   "cell_type": "code",
   "execution_count": 13,
   "id": "dfe6240c-3de9-4740-844c-5ab894d1f237",
   "metadata": {},
   "outputs": [],
   "source": [
    "# master = \"spark://spark:7077\"\n",
    "# conf = SparkConf().setAppName(\"Spark TEST v2\") #.setMaster(master)"
   ]
  },
  {
   "cell_type": "code",
   "execution_count": 5,
   "id": "aa7c32a3-5856-48b1-8402-6e0146a290b8",
   "metadata": {},
   "outputs": [
    {
     "data": {
      "text/plain": [
       "'/opt/spark/resources/jars/clickhouse-jdbc-0.4.6-all.jar:/opt/spark/resources/jars/clickhouse-spark-runtime-3.3_2.12-0.7.2.jar:/opt/spark/resources/jars/clickhouse-native-jdbc-shaded-2.5.4.jar'"
      ]
     },
     "execution_count": 5,
     "metadata": {},
     "output_type": "execute_result"
    }
   ],
   "source": [
    "# jars_to_load = [\n",
    "#     \"clickhouse-jdbc-0.4.6-all.jar\",\n",
    "#     \"clickhouse-spark-runtime-3.3_2.12-0.7.2.jar\",\n",
    "#     \"clickhouse-native-jdbc-shaded-2.5.4.jar\"\n",
    "# ]\n",
    "\n",
    "# jar_path_joined = \":\".join([\"/opt/spark/resources/jars/{}\".format(jar_name) for jar_name in jars_to_load])\n",
    "# jar_path_joined"
   ]
  },
  {
   "cell_type": "code",
   "execution_count": 6,
   "id": "057605bb-f725-4fce-b768-27de9ee66103",
   "metadata": {},
   "outputs": [],
   "source": [
    "# os.environ['PYSPARK_SUBMIT_ARGS'] = \\\n",
    "#   '--jars {} pyspark-shell'.format(\":\".join([\"../jars/{}\".format(jar_name) for jar_name in jars_to_load]))\n"
   ]
  },
  {
   "cell_type": "code",
   "execution_count": 7,
   "id": "31f84881-bdc9-42a4-ad4d-7686400ad2f7",
   "metadata": {},
   "outputs": [
    {
     "data": {
      "text/plain": [
       "<pyspark.conf.SparkConf at 0x7fca5023e790>"
      ]
     },
     "execution_count": 7,
     "metadata": {},
     "output_type": "execute_result"
    }
   ],
   "source": [
    "# conf.set('spark.jars', jar_path_joined)\n",
    "# conf.set('spark.driver.extraClassPath', jar_path_joined)\n",
    "# conf.set('spark.driver.extraLibraryPath', jar_path_joined)"
   ]
  },
  {
   "cell_type": "code",
   "execution_count": 8,
   "id": "670ebfb7-4a8a-4769-98d0-384f3e64dba6",
   "metadata": {
    "scrolled": true
   },
   "outputs": [
    {
     "data": {
      "text/plain": [
       "[('spark.app.name', 'Spark TEST v2'),\n",
       " ('spark.master', 'spark://spark:7077'),\n",
       " ('spark.jars',\n",
       "  '/opt/spark/resources/jars/clickhouse-jdbc-0.4.6-all.jar:/opt/spark/resources/jars/clickhouse-spark-runtime-3.3_2.12-0.7.2.jar:/opt/spark/resources/jars/clickhouse-native-jdbc-shaded-2.5.4.jar'),\n",
       " ('spark.driver.extraClassPath',\n",
       "  '/opt/spark/resources/jars/clickhouse-jdbc-0.4.6-all.jar:/opt/spark/resources/jars/clickhouse-spark-runtime-3.3_2.12-0.7.2.jar:/opt/spark/resources/jars/clickhouse-native-jdbc-shaded-2.5.4.jar'),\n",
       " ('spark.driver.extraLibraryPath',\n",
       "  '/opt/spark/resources/jars/clickhouse-jdbc-0.4.6-all.jar:/opt/spark/resources/jars/clickhouse-spark-runtime-3.3_2.12-0.7.2.jar:/opt/spark/resources/jars/clickhouse-native-jdbc-shaded-2.5.4.jar')]"
      ]
     },
     "execution_count": 8,
     "metadata": {},
     "output_type": "execute_result"
    }
   ],
   "source": [
    "# conf.getAll()"
   ]
  },
  {
   "cell_type": "code",
   "execution_count": 4,
   "id": "d7340734-45cd-4c22-b1f6-00b60c9d0169",
   "metadata": {},
   "outputs": [],
   "source": [
    "spark = SparkSession \\\n",
    "    .builder \\\n",
    "    .appName(\"Python Spark SQL basic example\") \\\n",
    "    .config(\"spark.some.config.option\", \"some-value\") \\\n",
    "    .getOrCreate()"
   ]
  },
  {
   "cell_type": "code",
   "execution_count": 5,
   "id": "907d09b8-0fd5-424a-b348-4474e00e995b",
   "metadata": {},
   "outputs": [
    {
     "data": {
      "text/html": [
       "\n",
       "        <div>\n",
       "            <p><b>SparkContext</b></p>\n",
       "\n",
       "            <p><a href=\"http://9a723a616187:4041\">Spark UI</a></p>\n",
       "\n",
       "            <dl>\n",
       "              <dt>Version</dt>\n",
       "                <dd><code>v3.4.1</code></dd>\n",
       "              <dt>Master</dt>\n",
       "                <dd><code>local[*]</code></dd>\n",
       "              <dt>AppName</dt>\n",
       "                <dd><code>Python Spark SQL basic example</code></dd>\n",
       "            </dl>\n",
       "        </div>\n",
       "        "
      ],
      "text/plain": [
       "<SparkContext master=local[*] appName=Python Spark SQL basic example>"
      ]
     },
     "execution_count": 5,
     "metadata": {},
     "output_type": "execute_result"
    }
   ],
   "source": [
    "spark.sparkContext"
   ]
  },
  {
   "cell_type": "code",
   "execution_count": 6,
   "id": "b609eefa-e672-49b2-ab63-b21348f751a9",
   "metadata": {},
   "outputs": [
    {
     "name": "stdout",
     "output_type": "stream",
     "text": [
      "Vector()\n"
     ]
    }
   ],
   "source": [
    "print(spark.sparkContext._jsc.sc().listJars())"
   ]
  },
  {
   "cell_type": "code",
   "execution_count": 7,
   "id": "b7f21d2f-5c33-4dc6-ad1b-b3d8ce3c3317",
   "metadata": {},
   "outputs": [],
   "source": [
    "given_date = \"2023-07-19\"\n",
    "glob_pattern = \"{}-*.json.gz\".format(given_date)"
   ]
  },
  {
   "cell_type": "code",
   "execution_count": 8,
   "id": "e90d187b-f2f9-48b6-a944-8fac18578e72",
   "metadata": {},
   "outputs": [
    {
     "name": "stdout",
     "output_type": "stream",
     "text": [
      "/home/jovyan/work/data/2023-07-19-0.json.gz\n"
     ]
    }
   ],
   "source": [
    "paths = (str(path) for path in sorted(spark_resources_path_obj.glob(glob_pattern), key=os.path.getmtime))\n",
    "cur_path = next(paths)\n",
    "print(cur_path)"
   ]
  },
  {
   "cell_type": "code",
   "execution_count": 9,
   "id": "c92e63ff-fbc3-46ea-8d9e-db0afc229760",
   "metadata": {},
   "outputs": [],
   "source": [
    "df = spark.read.json(cur_path)"
   ]
  },
  {
   "cell_type": "code",
   "execution_count": 10,
   "id": "d583d642-e714-4dfb-a628-71916d3a4df9",
   "metadata": {},
   "outputs": [
    {
     "data": {
      "text/plain": [
       "129321"
      ]
     },
     "execution_count": 10,
     "metadata": {},
     "output_type": "execute_result"
    }
   ],
   "source": [
    "df.count()"
   ]
  },
  {
   "cell_type": "code",
   "execution_count": 11,
   "id": "7018d9ba-a9d1-4675-a3e7-a03c547abe85",
   "metadata": {},
   "outputs": [],
   "source": [
    "df.createOrReplaceTempView(\"activity\")"
   ]
  },
  {
   "cell_type": "code",
   "execution_count": 12,
   "id": "92d4487f-96c4-466c-8817-810cc129a330",
   "metadata": {},
   "outputs": [
    {
     "name": "stdout",
     "output_type": "stream",
     "text": [
      "+--------------------+--------------------+\n",
      "|     min(created_at)|     max(created_at)|\n",
      "+--------------------+--------------------+\n",
      "|2023-07-19T00:00:00Z|2023-07-19T00:59:59Z|\n",
      "+--------------------+--------------------+\n",
      "\n"
     ]
    }
   ],
   "source": [
    "spark.sql(\n",
    "    \"SELECT min(created_at), max(created_at) FROM activity\"\n",
    ").show(10)"
   ]
  },
  {
   "cell_type": "code",
   "execution_count": 13,
   "id": "6687a3ae-9889-4b21-aee8-ccd179d23404",
   "metadata": {},
   "outputs": [
    {
     "name": "stdout",
     "output_type": "stream",
     "text": [
      "+--------------------+--------+\n",
      "|                type|count(1)|\n",
      "+--------------------+--------+\n",
      "|           PushEvent|   72942|\n",
      "|         CreateEvent|   17464|\n",
      "|    PullRequestEvent|   12203|\n",
      "|   IssueCommentEvent|    5995|\n",
      "|          WatchEvent|    5709|\n",
      "|         DeleteEvent|    4608|\n",
      "|PullRequestReview...|    2975|\n",
      "|         IssuesEvent|    2363|\n",
      "|PullRequestReview...|    1559|\n",
      "|           ForkEvent|    1426|\n",
      "|        ReleaseEvent|     680|\n",
      "|  CommitCommentEvent|     561|\n",
      "|         PublicEvent|     406|\n",
      "|         MemberEvent|     270|\n",
      "|         GollumEvent|     160|\n",
      "+--------------------+--------+\n",
      "\n"
     ]
    }
   ],
   "source": [
    "spark.sql(\n",
    "    \"SELECT type, count(*) FROM activity group by type order by count(*) desc\"\n",
    ").show(50)"
   ]
  },
  {
   "cell_type": "markdown",
   "id": "e59ce70b-1458-4170-b4ea-0373c6117344",
   "metadata": {},
   "source": [
    "## Metrics"
   ]
  },
  {
   "cell_type": "markdown",
   "id": "af1ac49f-480f-4551-a63d-e7c2070df511",
   "metadata": {},
   "source": [
    "* List of Developers that own more than one repository;\n",
    "* List of Developers who did more than one commit in a day, ordered by name and number of commits;\n",
    "* List of Developers with less than one commit in a day;\n",
    "* Total Developers grouped by gender;\n",
    "* Total projects with more than 10 members;"
   ]
  },
  {
   "cell_type": "markdown",
   "id": "65bafa75-e061-4e65-a30a-978df402df77",
   "metadata": {},
   "source": [
    "### LoD - Own > 1 Repo"
   ]
  },
  {
   "cell_type": "code",
   "execution_count": 14,
   "id": "cd5a9103-4a3c-454d-a520-ed24a8b0319f",
   "metadata": {},
   "outputs": [],
   "source": [
    "split_col = pyspark.sql.functions.split(df['repo.name'], '/')\n",
    "\n",
    "df = df.withColumn('repo_author', split_col.getItem(0))\n",
    "df = df.withColumn('repo_name', split_col.getItem(1))"
   ]
  },
  {
   "cell_type": "code",
   "execution_count": 15,
   "id": "9bef3db2-1f43-474b-ac40-bc093570fa50",
   "metadata": {},
   "outputs": [],
   "source": [
    "df.createOrReplaceTempView(\"activity\")"
   ]
  },
  {
   "cell_type": "markdown",
   "id": "103b4a65-ac96-4dc3-a2fe-ac5e47c461d9",
   "metadata": {},
   "source": [
    "Provide next list of __DISTINCT__ records:\n",
    "```\n",
    "| date | hour | repo author | repo_name |\n",
    "```"
   ]
  },
  {
   "cell_type": "code",
   "execution_count": 16,
   "id": "d84740bb-9b58-4f87-a8a3-d01a9598b01a",
   "metadata": {},
   "outputs": [],
   "source": [
    "df_repos = spark.sql(\n",
    "    \"\"\"\n",
    "    SELECT\n",
    "        date(created_at) as date,\n",
    "        hour(created_at) as hour,\n",
    "        repo_author, \n",
    "        repo_name,\n",
    "        count(*) as total_events\n",
    "    FROM activity \n",
    "    GROUP BY \n",
    "        date,\n",
    "        hour,\n",
    "        repo_author,\n",
    "        repo_name\n",
    "    ORDER BY total_events DESC\n",
    "    \"\"\"\n",
    ")"
   ]
  },
  {
   "cell_type": "code",
   "execution_count": 17,
   "id": "014c384a-2227-4d60-8673-085c139af08c",
   "metadata": {},
   "outputs": [
    {
     "name": "stdout",
     "output_type": "stream",
     "text": [
      "+----------+----+-----------------+--------------------+------------+\n",
      "|      date|hour|      repo_author|           repo_name|total_events|\n",
      "+----------+----+-----------------+--------------------+------------+\n",
      "|2023-07-19|   0|         joeIvan2|       btcOrderIndex|        1250|\n",
      "|2023-07-19|   0|         sgou1969|   streamlit-example|         927|\n",
      "|2023-07-19|   0|    happyfish2024|                mins|         712|\n",
      "|2023-07-19|   0|        B74LABgit|                 CAM|         581|\n",
      "|2023-07-19|   0|  bullet-dev-team|   demo-app-env-list|         521|\n",
      "|2023-07-19|   0|  bullet-dev-team|python-pyramid-pu...|         512|\n",
      "|2023-07-19|   0|       CyberCommy|biqu520net-30001-...|         348|\n",
      "|2023-07-19|   0|appseed-projects3|6d11e92f-b79e-423...|         348|\n",
      "|2023-07-19|   0|          unifyai|                 ivy|         339|\n",
      "|2023-07-19|   0|      hacks-guide|           Guide_3DS|         338|\n",
      "|2023-07-19|   0| liangbin-foxmail|             GONGKAI|         262|\n",
      "|2023-07-19|   0|  networkoperator|demo-cluster-mani...|         241|\n",
      "|2023-07-19|   0|       hotspotlab|              hourly|         237|\n",
      "|2023-07-19|   0|           zomeru|              zomeru|         230|\n",
      "|2023-07-19|   0|      exorde-labs|     TestnetProtocol|         223|\n",
      "|2023-07-19|   0|         zirklbch|  zirklbch.github.io|         179|\n",
      "|2023-07-19|   0|  t56GHBuytH876GH|     t56GHBuytH876GH|         177|\n",
      "|2023-07-19|   0|          pytorch|             pytorch|         174|\n",
      "|2023-07-19|   0| facebookresearch|               llama|         166|\n",
      "|2023-07-19|   0|      vpnsuperapp|                fast|         163|\n",
      "+----------+----+-----------------+--------------------+------------+\n",
      "only showing top 20 rows\n",
      "\n"
     ]
    }
   ],
   "source": [
    "df_repos.show()"
   ]
  },
  {
   "cell_type": "code",
   "execution_count": 19,
   "id": "337c284d-21f4-4228-93eb-ea99da64c609",
   "metadata": {},
   "outputs": [],
   "source": [
    "def compresion_degree(df_new, df_old):\n",
    "    print(\n",
    "        \"\"\"\n",
    "        Degree of ~compression~ via aggregation: {:0.2f} ({} / {})\n",
    "        \"\"\".format(df_old.count() / df_new.count(), df_new.count(), df_old.count())\n",
    "    )"
   ]
  },
  {
   "cell_type": "code",
   "execution_count": 20,
   "id": "71c974b6-3374-4c2a-9944-60cf63ff76be",
   "metadata": {},
   "outputs": [
    {
     "name": "stdout",
     "output_type": "stream",
     "text": [
      "\n",
      "        Degree of ~compression~ via aggregation: 2.59 (49955 / 129321)\n",
      "        \n"
     ]
    }
   ],
   "source": [
    "compresion_degree(df_repos, df)"
   ]
  },
  {
   "cell_type": "markdown",
   "id": "3dd52ef1-757b-430b-b32f-6d719edfb403",
   "metadata": {},
   "source": [
    "#### Limitations & Problems\n",
    "\n",
    "1. As the snapshots in GHARCHIVE are hourly-based, there is __no data__ about the past activity for the repositories. \\\n",
    "So without the past activity, the number of owned repos is incomplete and can be based only on the activities, that we've crawled & stored. \\\n",
    "On how to overcome this, please read the next section, `How can it be improved?`"
   ]
  },
  {
   "cell_type": "markdown",
   "id": "71b8896f-f095-47db-8d85-d2c350bd6901",
   "metadata": {},
   "source": [
    "#### How can it be improved?\n",
    "\n",
    "* Get bigger slice of data - and do the next thing:\n",
    "  * Store daily snapshots of all unique combinations of `date`, `hour`, `repo.author`, `repo.name`\n",
    "  * Provide the metrics by getting the global `count(distinct repo.name)` aggregation on group of `repo.author`-s"
   ]
  },
  {
   "cell_type": "markdown",
   "id": "46a4f9eb-a58f-478b-bc9b-69e8117b4bcf",
   "metadata": {},
   "source": [
    "#### Loading - Clickhouse"
   ]
  },
  {
   "cell_type": "code",
   "execution_count": 21,
   "id": "acd0d175-d565-44ce-b132-a36b5a692e3c",
   "metadata": {},
   "outputs": [],
   "source": [
    "import clickhouse_connect\n",
    "import os\n",
    "\n",
    "client = clickhouse_connect.get_client(\n",
    "    host='clickhouse_server', \n",
    "    username=os.environ['CLICKHOUSE_USER'], \n",
    "    password=os.environ['CLICKHOUSE_PASSWORD']\n",
    ")"
   ]
  },
  {
   "cell_type": "code",
   "execution_count": 22,
   "id": "a786318f-94a2-459b-a519-b51f39427887",
   "metadata": {},
   "outputs": [
    {
     "data": {
      "text/plain": [
       "''"
      ]
     },
     "execution_count": 22,
     "metadata": {},
     "output_type": "execute_result"
    }
   ],
   "source": [
    "client.command('USE gharchive;')"
   ]
  },
  {
   "cell_type": "code",
   "execution_count": 23,
   "id": "24e41de0-542a-4537-a1a8-1bfcf20e3b0f",
   "metadata": {},
   "outputs": [
    {
     "data": {
      "text/plain": [
       "''"
      ]
     },
     "execution_count": 23,
     "metadata": {},
     "output_type": "execute_result"
    }
   ],
   "source": [
    "client.command(\"show tables;\")"
   ]
  },
  {
   "cell_type": "code",
   "execution_count": 24,
   "id": "ddf5fd79-7c65-4b1e-a1d7-2fb553c6fabe",
   "metadata": {},
   "outputs": [
    {
     "name": "stdout",
     "output_type": "stream",
     "text": [
      "\n",
      "CREATE TABLE IF NOT EXISTS gharchive.repo_aggregated\n",
      "(\n",
      "    date Date,\n",
      "    hour UInt8,\n",
      "    repo_author String,\n",
      "    repo_name String,\n",
      "    total_events UInt32\n",
      ")\n",
      "ENGINE MergeTree\n",
      "ORDER BY date;\n",
      "\n"
     ]
    },
    {
     "data": {
      "text/plain": [
       "''"
      ]
     },
     "execution_count": 24,
     "metadata": {},
     "output_type": "execute_result"
    }
   ],
   "source": [
    "create_table_cmd = \"\"\"\n",
    "CREATE TABLE IF NOT EXISTS gharchive.repo_aggregated\n",
    "(\n",
    "    date Date,\n",
    "    hour UInt8,\n",
    "    repo_author String,\n",
    "    repo_name String,\n",
    "    total_events UInt32\n",
    ")\n",
    "ENGINE MergeTree\n",
    "ORDER BY date;\n",
    "\"\"\"\n",
    "\n",
    "print(create_table_cmd)\n",
    "\n",
    "client.command(create_table_cmd)"
   ]
  },
  {
   "cell_type": "code",
   "execution_count": 30,
   "id": "46c5b86c-17cd-420e-b10b-a52184894a16",
   "metadata": {},
   "outputs": [
    {
     "name": "stdout",
     "output_type": "stream",
     "text": [
      "\n",
      "select count(*) from gharchive.repo_aggregated\n",
      "\n",
      "\n"
     ]
    },
    {
     "data": {
      "text/plain": [
       "7733645"
      ]
     },
     "execution_count": 30,
     "metadata": {},
     "output_type": "execute_result"
    }
   ],
   "source": [
    "create_table_cmd = \"\"\"\n",
    "select count(*) from gharchive.repo_aggregated\n",
    "\n",
    "\"\"\"\n",
    "\n",
    "print(create_table_cmd)\n",
    "\n",
    "client.command(create_table_cmd)"
   ]
  },
  {
   "cell_type": "code",
   "execution_count": null,
   "id": "c08bf785-60c2-4fbd-9185-862d5080b171",
   "metadata": {},
   "outputs": [],
   "source": []
  },
  {
   "cell_type": "code",
   "execution_count": 25,
   "id": "78e3c376-8c9c-44d2-b7b5-91e4cfab7644",
   "metadata": {},
   "outputs": [],
   "source": [
    "# spark.sparkContext.addFile(\"../jars/clickhouse-jdbc-0.4.6-all.jar\")\n",
    "\n",
    "# spark.sparkContext._jsc.addJar(\"../jars/clickhouse-jdbc-0.4.6-all.jar\")\n",
    "\n",
    "# spark.sparkContext.addFile(\"../jars/clickhouse-spark-runtime-3.3_2.12-0.7.2.jar\")\n",
    "\n",
    "# spark.sparkContext._jsc.addJar(\"../jars/clickhouse-spark-runtime-3.3_2.12-0.7.2.jar\")\n",
    "\n",
    "# spark.sparkContext"
   ]
  },
  {
   "cell_type": "code",
   "execution_count": 26,
   "id": "a6310b4c-1208-4d87-8439-dd527de9cd29",
   "metadata": {},
   "outputs": [],
   "source": [
    "# spark.sparkContext.addFile(\"/home/jovyan/work/jars/clickhouse-jdbc-0.4.6-all.jar\")\n",
    "\n",
    "# spark.sparkContext._jsc.addJar(\"/home/jovyan/work/jars/clickhouse-jdbc-0.4.6-all.jar\")\n",
    "\n",
    "# spark.sparkContext.addFile(\"/home/jovyan/work/jars/clickhouse-spark-runtime-3.3_2.12-0.7.2.jar\")\n",
    "\n",
    "# spark.sparkContext._jsc.addJar(\"/home/jovyan/work/jars/clickhouse-spark-runtime-3.3_2.12-0.7.2.jar\")\n",
    "\n",
    "# spark.sparkContext"
   ]
  },
  {
   "cell_type": "code",
   "execution_count": 27,
   "id": "29a64779-2bab-4cf4-a819-ec0cdf1a4e4e",
   "metadata": {},
   "outputs": [
    {
     "name": "stdout",
     "output_type": "stream",
     "text": [
      "Vector()\n"
     ]
    }
   ],
   "source": [
    "print(spark.sparkContext._jsc.sc().listJars())"
   ]
  },
  {
   "cell_type": "code",
   "execution_count": 28,
   "id": "35ce9e7b-52d7-49bb-bc33-3bb803bf0663",
   "metadata": {},
   "outputs": [
    {
     "name": "stdout",
     "output_type": "stream",
     "text": [
      "Vector()\n"
     ]
    }
   ],
   "source": [
    "print(spark.sparkContext._jsc.sc().listJars())"
   ]
  },
  {
   "cell_type": "code",
   "execution_count": 29,
   "id": "9a465895-cbd3-4dcc-92ae-dd21581fcd21",
   "metadata": {},
   "outputs": [
    {
     "data": {
      "text/plain": [
       "pyspark.sql.dataframe.DataFrame"
      ]
     },
     "execution_count": 29,
     "metadata": {},
     "output_type": "execute_result"
    }
   ],
   "source": [
    "type(df_repos)"
   ]
  },
  {
   "cell_type": "code",
   "execution_count": null,
   "id": "5652634f-1ac9-4915-b4df-d3c6d457f444",
   "metadata": {},
   "outputs": [],
   "source": []
  },
  {
   "cell_type": "code",
   "execution_count": 31,
   "id": "40ebc86a-9d33-435d-a6bb-064f5f7ed7a3",
   "metadata": {},
   "outputs": [],
   "source": [
    "# df_repos.read \\\n",
    "#     .format(\"jdbc\") \\\n",
    "#     .mode(\"append\") \\\n",
    "#     .option(\"driver\", \"com.github.housepower.jdbc.ClickHouseDriver\") \\\n",
    "#     .option(\"url\", \"jdbc:clickhouse://clickhouse-server:9000/gharchive\") \\\n",
    "#     .option(\"user\", os.environ['CLICKHOUSE_USER']) \\\n",
    "#     .option(\"password\", os.environ['CLICKHOUSE_PASSWQRD']) \\\n",
    "#     .option(\"dbtable\", \"gharchive.repo_aggregated\") \\\n",
    "#     .load()"
   ]
  },
  {
   "cell_type": "code",
   "execution_count": 32,
   "id": "0322cf13-82ab-49d7-a418-65d7249be76d",
   "metadata": {},
   "outputs": [],
   "source": [
    "# df_repos.write \\\n",
    "#     .format(\"jdbc\") \\\n",
    "#     .mode(\"append\") \\\n",
    "#     .option(\"driver\", \"com.github.housepower.jdbc.ClickHouseDriver\") \\\n",
    "#     .option(\"url\", \"jdbc:clickhouse://clickhouse-server:9000/gharchive\") \\\n",
    "#     .option(\"user\", os.environ['CLICKHOUSE_USER']) \\\n",
    "#     .option(\"password\", os.environ['CLICKHOUSE_PASSWQRD']) \\\n",
    "#     .option(\"dbtable\", \"gharchive.repo_aggregated\") \\\n",
    "#     .save()"
   ]
  },
  {
   "cell_type": "code",
   "execution_count": null,
   "id": "06d9831c-1b6d-4626-bd75-4f458753fe51",
   "metadata": {},
   "outputs": [],
   "source": []
  },
  {
   "cell_type": "code",
   "execution_count": null,
   "id": "20d038c4-4fe1-4122-9d0b-8c0c64acb058",
   "metadata": {},
   "outputs": [],
   "source": []
  },
  {
   "cell_type": "code",
   "execution_count": null,
   "id": "0d502797-3631-49b3-ba3d-65e70bc2423e",
   "metadata": {},
   "outputs": [],
   "source": []
  },
  {
   "cell_type": "markdown",
   "id": "5307fbf6-060d-4178-9974-8550ba9c154e",
   "metadata": {},
   "source": [
    "### LoD - Did > 1 Commit a day"
   ]
  },
  {
   "cell_type": "markdown",
   "id": "69c08268-23ac-46b3-8720-29fb61b3a294",
   "metadata": {},
   "source": [
    "https://stackoverflow.com/questions/64605066/explode-array-with-nested-array-raw-spark-sql"
   ]
  },
  {
   "cell_type": "markdown",
   "id": "20eaa9a6-cd50-4cc6-93a4-54d50022b8d4",
   "metadata": {},
   "source": [
    "#### Notes\n",
    "\n",
    "1. Commits are present inside `payload.commits.author.name`.\\\n",
    "Given the hourly and typized nature of the dataset, we can:\n",
    "    * Filter by `type`, leaving only `PushEvent`-s\n",
    "    * Explode author names\n",
    "    * Get the count aggregation"
   ]
  },
  {
   "cell_type": "markdown",
   "id": "87be832d-8fb2-4188-ac08-708429bd28c6",
   "metadata": {},
   "source": [
    "#### Impl"
   ]
  },
  {
   "cell_type": "code",
   "execution_count": 44,
   "id": "b2d009ea-16ce-427c-a005-19dc69647649",
   "metadata": {},
   "outputs": [
    {
     "name": "stdout",
     "output_type": "stream",
     "text": [
      "+--------------------+--------------------+--------------------+----------+------+--------------------+\n",
      "|              author|                name|                 ref|  ref_type|review|                type|\n",
      "+--------------------+--------------------+--------------------+----------+------+--------------------+\n",
      "|                null|                null|                null|      null|  null|    PullRequestEvent|\n",
      "|                null|                null|                null|repository|  null|         CreateEvent|\n",
      "|[{cottaris@upenn....|  [Nicolas Cottaris]|refs/heads/Mosaic...|      null|  null|           PushEvent|\n",
      "|[{87268091+DXPGH@...|           [Danny P]|     refs/heads/main|      null|  null|           PushEvent|\n",
      "|[{57704129+soundo...|       [soundofhope]|   refs/heads/master|      null|  null|           PushEvent|\n",
      "|                null|                null|                null|      null|  null|    PullRequestEvent|\n",
      "|                null|                null|                null|      null|  null|   IssueCommentEvent|\n",
      "|[{ituddpmibjn@gma...|            [server]|     refs/heads/main|      null|  null|           PushEvent|\n",
      "|                null|                null|                null|      null|  null|    PullRequestEvent|\n",
      "|                null|                null|dependabot/npm_an...|    branch|  null|         CreateEvent|\n",
      "|                null|                null|             nightly|       tag|  null|         CreateEvent|\n",
      "|[{120438850+19920...|          [19920513]|   refs/heads/master|      null|  null|           PushEvent|\n",
      "|[{jaison@sistemiz...|            [Jaison]|     refs/heads/main|      null|  null|           PushEvent|\n",
      "|                null|                null|                null|      null|  null|        ReleaseEvent|\n",
      "|                null|                null|                null|      null|  null|    PullRequestEvent|\n",
      "|[{gabriel_nrs@hot...|           [gabriel]|   refs/heads/master|      null|  null|           PushEvent|\n",
      "|[{matheus.p.1996@...|       [mtssantos96]|     refs/heads/main|      null|  null|           PushEvent|\n",
      "|[{mingming@live.c...|[fanmingming, fan...|     refs/heads/main|      null|  null|           PushEvent|\n",
      "|[{alexikiphenix@g...|     [alexikiphenix]|     refs/heads/main|      null|  null|           PushEvent|\n",
      "|[{ajisafeoluwapel...|         [ajipelumi]|     refs/heads/main|      null|  null|           PushEvent|\n",
      "|[{70082244+joeIva...|          [joeIvan2]|     refs/heads/main|      null|  null|           PushEvent|\n",
      "|[{greg.evans@irhy...|        [Greg Evans]|     refs/heads/main|      null|  null|           PushEvent|\n",
      "|                null|                null|dependabot/npm_an...|    branch|  null|         CreateEvent|\n",
      "|[{msridhar@gmail....|[Manu Sridharan, ...|refs/heads/test-o...|      null|  null|           PushEvent|\n",
      "|[{cristalpadilla6...|[CrisUwU117, Cris...|     refs/heads/main|      null|  null|           PushEvent|\n",
      "|[{41898282+github...|[github-actions[b...|   refs/heads/output|      null|  null|           PushEvent|\n",
      "|                null|                null|                null|      null|  null|          WatchEvent|\n",
      "|[{denniskats43@gm...|       [Dennis Kats]|   refs/heads/master|      null|  null|           PushEvent|\n",
      "|[{138718521+karol...|          [karolync]|     refs/heads/main|      null|  null|           PushEvent|\n",
      "|                null|                null|                null|      null|  null|   IssueCommentEvent|\n",
      "|                null|                null|               tests|    branch|  null|         CreateEvent|\n",
      "|[{github-actions@...|    [github-actions]|     refs/heads/main|      null|  null|           PushEvent|\n",
      "|[{jnutt367@gmail....|[Jason Nutt (He/H...|     refs/heads/main|      null|  null|           PushEvent|\n",
      "|                null|                null|                null|      null|  null|          WatchEvent|\n",
      "|[{scott.morrison@...|    [Scott Morrison]|refs/heads/align-...|      null|  null|           PushEvent|\n",
      "|[{139145085+manda...|      [mandarpitkar]|     refs/heads/main|      null|  null|           PushEvent|\n",
      "|[{41898282+github...|[github-actions[b...|   refs/heads/output|      null|  null|           PushEvent|\n",
      "|                null|                null|                null|      null|  null|    PullRequestEvent|\n",
      "|                null|                null|test-branch-3-5ec...|    branch|  null|         CreateEvent|\n",
      "|                null|                null|                null|      null|  null|PullRequestReview...|\n",
      "|                null|                null|dependabot/npm_an...|    branch|  null|         CreateEvent|\n",
      "|[{55052043+danyl7...|          [danyl756]|     refs/heads/main|      null|  null|           PushEvent|\n",
      "|                null|                null|                null|      null|  null|    PullRequestEvent|\n",
      "|[{root@ip-10-0-40...|              [root]|refs/heads/test-b...|      null|  null|           PushEvent|\n",
      "|[{greisonboff@hot...|[Greison Nicolau ...|     refs/heads/main|      null|  null|           PushEvent|\n",
      "|                null|                null|                null|      null|  null|         PublicEvent|\n",
      "|[{alejandro.lopez...|   [Alejandro Lopez]|   refs/heads/master|      null|  null|           PushEvent|\n",
      "|[{562826179@qq.co...|      [wizardforcel]|   refs/heads/master|      null|  null|           PushEvent|\n",
      "|[{120438850+19920...|          [19920513]|   refs/heads/master|      null|  null|           PushEvent|\n",
      "|[{120438850+19920...|          [19920513]|   refs/heads/master|      null|  null|           PushEvent|\n",
      "+--------------------+--------------------+--------------------+----------+------+--------------------+\n",
      "only showing top 50 rows\n",
      "\n"
     ]
    }
   ],
   "source": [
    "df.select(\n",
    "    df[\"payload.commits.author\"],\n",
    "    df[\"payload.commits.author.name\"],\n",
    "    df[\"payload.ref\"],\n",
    "    df[\"payload.ref_type\"],\n",
    "    df[\"payload.review\"],\n",
    "    df[\"type\"],\n",
    ").show(50)"
   ]
  },
  {
   "cell_type": "code",
   "execution_count": 43,
   "id": "ea245185-6ac0-4e95-b644-8d335bbb7633",
   "metadata": {},
   "outputs": [
    {
     "name": "stdout",
     "output_type": "stream",
     "text": [
      "+----------+--------------------+----------------+\n",
      "|      date|          created_at|     author_name|\n",
      "+----------+--------------------+----------------+\n",
      "|2023-07-19|2023-07-19T00:00:00Z|Nicolas Cottaris|\n",
      "|2023-07-19|2023-07-19T00:00:00Z|         Danny P|\n",
      "|2023-07-19|2023-07-19T00:00:00Z|     soundofhope|\n",
      "|2023-07-19|2023-07-19T00:00:00Z|          server|\n",
      "|2023-07-19|2023-07-19T00:00:00Z|        19920513|\n",
      "|2023-07-19|2023-07-19T00:00:00Z|          Jaison|\n",
      "|2023-07-19|2023-07-19T00:00:00Z|         gabriel|\n",
      "|2023-07-19|2023-07-19T00:00:00Z|     mtssantos96|\n",
      "|2023-07-19|2023-07-19T00:00:00Z|     fanmingming|\n",
      "|2023-07-19|2023-07-19T00:00:00Z|     fanmingming|\n",
      "+----------+--------------------+----------------+\n",
      "only showing top 10 rows\n",
      "\n",
      "\n",
      "        Degree of ~compression~ via aggregation: 1.13 (114408 / 129321)\n",
      "        \n"
     ]
    }
   ],
   "source": [
    "df_commits = spark.sql(\n",
    "    \"\"\"\n",
    "    SELECT\n",
    "        date(created_at) as date,\n",
    "        created_at,\n",
    "        explode(payload.commits.author.name) as author_name\n",
    "    FROM activity\n",
    "    WHERE \n",
    "        type = 'PushEvent'\n",
    "    \"\"\"\n",
    ")\n",
    "\n",
    "df_commits.show(10)\n",
    "\n",
    "compresion_degree(df_commits, df)"
   ]
  },
  {
   "cell_type": "code",
   "execution_count": 36,
   "id": "06810fb5-e4df-465e-ab8f-74b7513f04f6",
   "metadata": {},
   "outputs": [
    {
     "name": "stdout",
     "output_type": "stream",
     "text": [
      "+----------+-------------------+-------------+\n",
      "|      date|        author_name|total_commits|\n",
      "+----------+-------------------+-------------+\n",
      "|2023-07-19|github-actions[bot]|         5780|\n",
      "|2023-07-19|        Upptime Bot|         2603|\n",
      "|2023-07-19|      renovate[bot]|         1927|\n",
      "|2023-07-19|    dependabot[bot]|         1600|\n",
      "|2023-07-19|           joeIvan2|         1250|\n",
      "|2023-07-19|           sgou1969|          927|\n",
      "|2023-07-19|      happyfish2024|          712|\n",
      "|2023-07-19|          B74LABgit|          707|\n",
      "|2023-07-19|        Yifei Zhang|          674|\n",
      "|2023-07-19|     github-actions|          667|\n",
      "+----------+-------------------+-------------+\n",
      "only showing top 10 rows\n",
      "\n"
     ]
    }
   ],
   "source": [
    "spark.sql(\n",
    "    \"\"\"\n",
    "    SELECT \n",
    "        sq.created_at_date as date,\n",
    "        sq.author_name, \n",
    "        count(*) total_commits from \n",
    "    (\n",
    "        SELECT\n",
    "            date(created_at) as created_at_date,\n",
    "            explode(payload.commits.author.name) as author_name\n",
    "        FROM activity\n",
    "        WHERE \n",
    "            type = 'PushEvent'\n",
    "    ) sq\n",
    "    GROUP BY \n",
    "        date, \n",
    "        sq.author_name\n",
    "    HAVING total_commits > 1\n",
    "    ORDER BY \n",
    "        total_commits DESC, \n",
    "        author_name DESC\n",
    "    \"\"\"\n",
    ").show(10)"
   ]
  },
  {
   "cell_type": "markdown",
   "id": "18932501-296e-4b93-be2d-9f0281498319",
   "metadata": {},
   "source": [
    "#### Limitations & Problems\n",
    "\n",
    "1. Potentially, subquery usage in Spark is not a good practice. Yet, it may be used for prototype reasons.\n",
    "2. We have to additionally group by date, because we have to provide DAILY number of commits."
   ]
  },
  {
   "cell_type": "markdown",
   "id": "ac1e423e-f7a2-4fd9-9edc-aa77c48cb8ed",
   "metadata": {},
   "source": [
    "#### How can it be improved?\n",
    "\n",
    "* Probably, we should get rid of bot entities :)"
   ]
  },
  {
   "cell_type": "markdown",
   "id": "83ea7c0a-dfa2-4d9e-bfcb-3cf3dc277ff7",
   "metadata": {},
   "source": [
    "### [!!!] LoD - < 1 commit in a day"
   ]
  },
  {
   "cell_type": "markdown",
   "id": "12672694-c8e5-447a-83e7-dc98bc2b6b5b",
   "metadata": {},
   "source": [
    "#### Notes\n",
    "\n",
    "* The trick is that an author can have 1 commit in, let's say, 25h time span, which is more than 1 day. \\\n",
    "So we should regroup data not by a date, but by consecutive dataspansm which are 25h each...\n",
    "* For to test it, we need at least __2 days worth of data__! \\\n",
    "For now I have complications to get this data, so I skip the metric."
   ]
  },
  {
   "cell_type": "markdown",
   "id": "93029c1f-e6bb-45d1-90ae-cb48ac248536",
   "metadata": {},
   "source": [
    "#### Impl"
   ]
  },
  {
   "cell_type": "code",
   "execution_count": 73,
   "id": "41a219e8-f00a-4c5b-9df1-6283cef3ae19",
   "metadata": {},
   "outputs": [
    {
     "name": "stdout",
     "output_type": "stream",
     "text": [
      "+----------+--------------------+-------------+\n",
      "|      date|         author_name|total_commits|\n",
      "+----------+--------------------+-------------+\n",
      "|2023-07-28|            🤖 R2-D2|            1|\n",
      "|2023-07-28|      💵 moneybot 💵|            1|\n",
      "|2023-07-28| 🐼 Samrose Ahmed 🐼|            1|\n",
      "|2023-07-27|𒀳 Scribe of the ...|            1|\n",
      "|2023-07-27|                  ｚ|            1|\n",
      "|2023-07-28|              황지환|            1|\n",
      "|2023-07-28|              홍세빈|            1|\n",
      "|2023-07-27|              현기홍|            1|\n",
      "|2023-07-28|                현경|            1|\n",
      "|2023-07-27|              한창수|            1|\n",
      "+----------+--------------------+-------------+\n",
      "only showing top 10 rows\n",
      "\n"
     ]
    }
   ],
   "source": [
    "spark.sql(\n",
    "    \"\"\"\n",
    "    SELECT \n",
    "        sq.created_at_date as date,\n",
    "        sq.author_name, \n",
    "        count(*) total_commits from \n",
    "    (\n",
    "        SELECT\n",
    "            date(created_at) as created_at_date,\n",
    "            explode(payload.commits.author.name) as author_name\n",
    "        FROM activity\n",
    "        WHERE \n",
    "            type = 'PushEvent'\n",
    "    ) sq\n",
    "    GROUP BY \n",
    "        date, \n",
    "        sq.author_name\n",
    "    HAVING total_commits <= 1\n",
    "    ORDER BY \n",
    "        total_commits DESC, \n",
    "        author_name DESC\n",
    "    \"\"\"\n",
    ").show(10)"
   ]
  },
  {
   "cell_type": "markdown",
   "id": "a4b315c5-527f-4371-b8ea-73da9e4b2490",
   "metadata": {},
   "source": [
    "### [!!!] Total Developers grouped by gender"
   ]
  },
  {
   "cell_type": "markdown",
   "id": "5c91aaa9-7336-466d-bff9-d55cb58cae3a",
   "metadata": {},
   "source": [
    "#### Notes\n",
    "\n",
    "* Proabably can be done via `user[profile_pronouns]` , but for EACH unique GitHub User... That's just dumb.\n",
    "* I haven't found such info (sex,gender, pronouns) in the dataset."
   ]
  },
  {
   "cell_type": "code",
   "execution_count": null,
   "id": "48613a12-5f9e-41b2-b4e8-90f0b94ecc6c",
   "metadata": {},
   "outputs": [],
   "source": []
  },
  {
   "cell_type": "markdown",
   "id": "38145860-9e8c-4397-918d-ab40b4138cbb",
   "metadata": {},
   "source": [
    "### Total projects with more than 10 members"
   ]
  },
  {
   "cell_type": "markdown",
   "id": "7776cedc-b8d0-41b1-8642-806a3cf61cd8",
   "metadata": {},
   "source": [
    "#### Notes\n",
    "\n",
    "* Where to find members ???"
   ]
  },
  {
   "cell_type": "markdown",
   "id": "e108f9cc-94ff-4a38-b5ad-e07afbc779c3",
   "metadata": {},
   "source": [
    "#### IMPL\n"
   ]
  },
  {
   "cell_type": "code",
   "execution_count": 38,
   "id": "fcf0fc92-eb7e-4417-b58a-dc60974a198b",
   "metadata": {},
   "outputs": [
    {
     "name": "stdout",
     "output_type": "stream",
     "text": [
      "+-----------+--------------------+\n",
      "|       type|              member|\n",
      "+-----------+--------------------+\n",
      "|MemberEvent|{https://avatars....|\n",
      "|MemberEvent|{https://avatars....|\n",
      "|MemberEvent|{https://avatars....|\n",
      "|MemberEvent|{https://avatars....|\n",
      "|MemberEvent|{https://avatars....|\n",
      "|MemberEvent|{https://avatars....|\n",
      "|MemberEvent|{https://avatars....|\n",
      "|MemberEvent|{https://avatars....|\n",
      "|MemberEvent|{https://avatars....|\n",
      "|MemberEvent|{https://avatars....|\n",
      "+-----------+--------------------+\n",
      "only showing top 10 rows\n",
      "\n"
     ]
    }
   ],
   "source": [
    "spark.sql(\n",
    "    \"\"\"\n",
    "    SELECT\n",
    "        type,\n",
    "        payload.member\n",
    "    FROM activity\n",
    "    WHERE\n",
    "        payload.member is not NULL\n",
    "        \n",
    "    \"\"\"\n",
    ").show(10)"
   ]
  },
  {
   "cell_type": "code",
   "execution_count": 40,
   "id": "4b2533e2-1e64-422d-9833-9d48b4c7e2a7",
   "metadata": {},
   "outputs": [
    {
     "name": "stdout",
     "output_type": "stream",
     "text": [
      "+--------------------+--------------------+---------+-----------------+----+------+------------------+------------------+--------------------+-----------+\n",
      "|          created_at|              member|       id|            login|type|action|             login|             login|                name|       type|\n",
      "+--------------------+--------------------+---------+-----------------+----+------+------------------+------------------+--------------------+-----------+\n",
      "|2023-07-19T00:00:25Z|{https://avatars....| 88982841|           MNRMax|User| added|          SammyGPT|          AntoDono|SammyGPT/SammyGPT...|MemberEvent|\n",
      "|2023-07-19T00:00:31Z|{https://avatars....| 85177319|       lavywei666|User| added|              null|      Alexstarwing|Alexstarwing/Hire...|MemberEvent|\n",
      "|2023-07-19T00:00:37Z|{https://avatars....|130781666|          Gellart|User| added|   Hackademy-PT-08|   Hackademy-PT-08|Hackademy-PT-08/l...|MemberEvent|\n",
      "|2023-07-19T00:00:51Z|{https://avatars....|117898665|     PierColina98|User| added|              null|   KevinVargas1999|KevinVargas1999/O...|MemberEvent|\n",
      "|2023-07-19T00:00:57Z|{https://avatars....|  3904778|   shepherdjerred|User| added|           earthly|           Velutas|earthly/devcontai...|MemberEvent|\n",
      "|2023-07-19T00:01:11Z|{https://avatars....| 47408004|       alcastle01|User| added|              null|        Kevinn0809|Kevinn0809/crista...|MemberEvent|\n",
      "|2023-07-19T00:01:35Z|{https://avatars....|128562732|         Rorronix|User| added|            edd-ic|            edd-ic|edd-ic/Grupo-05-H...|MemberEvent|\n",
      "|2023-07-19T00:01:38Z|{https://avatars....|138020059|     hannahhhhysp|User| added|              null|     AniahMathurin|AniahMathurin/Fin...|MemberEvent|\n",
      "|2023-07-19T00:02:02Z|{https://avatars....|    27160|            amiel|User| added|           bentohq|      nathancarnes|       bentohq/bulma|MemberEvent|\n",
      "|2023-07-19T00:02:07Z|{https://avatars....|107821479|        Spriteson|User| added|              null|      Alexstarwing|Alexstarwing/Hire...|MemberEvent|\n",
      "|2023-07-19T00:02:13Z|{https://avatars....|104925256|          vicmaHo|User| added|              null|          JAMM0118|JAMM0118/MiniProy...|MemberEvent|\n",
      "|2023-07-19T00:02:16Z|{https://avatars....|    22246|  deepakinseattle|User| added|           bentohq|      nathancarnes|       bentohq/bulma|MemberEvent|\n",
      "|2023-07-19T00:02:17Z|{https://avatars....|128551428| lokillox3swagerl|User| added|            edd-ic|          Rorronix|edd-ic/Grupo-05-H...|MemberEvent|\n",
      "|2023-07-19T00:02:33Z|{https://avatars....|128555603|       emilio-ma1|User| added|            edd-ic|          Rorronix|edd-ic/Grupo-05-H...|MemberEvent|\n",
      "|2023-07-19T00:02:39Z|{https://avatars....| 17365855|       andyguerra|User| added|              null|           LoLProM|    LoLProM/NeetCode|MemberEvent|\n",
      "|2023-07-19T00:02:46Z|{https://avatars....| 72476598|          Speak1t|User| added|              null|           alvansa|    alvansa/Caloriap|MemberEvent|\n",
      "|2023-07-19T00:03:06Z|{https://avatars....| 77651701|       JangHoChan|User| added|              null|        heejinshin|  heejinshin/gachiGo|MemberEvent|\n",
      "|2023-07-19T00:03:15Z|{https://avatars....|122321021|       vikbaliyan|User| added|              null|            x-xaie|  x-xaie/FuturScript|MemberEvent|\n",
      "|2023-07-19T00:03:23Z|{https://avatars....|  5984729|        alexbonti|User| added|cosc2299-sept-2023|cosc2299-sept-2023|cosc2299-sept-202...|MemberEvent|\n",
      "|2023-07-19T00:03:23Z|{https://avatars....| 72675185|      mcadsgolias|User| added|              null|      joaopaulobco|joaopaulobco/plan...|MemberEvent|\n",
      "|2023-07-19T00:03:30Z|{https://avatars....|133937368|         suzzjeon|User| added|              null|          NickYOOO|        NickYOOO/UHR|MemberEvent|\n",
      "|2023-07-19T00:04:05Z|{https://avatars....|130781666|          Gellart|User| added|   Hackademy-PT-08|   Hackademy-PT-08|Hackademy-PT-08/l...|MemberEvent|\n",
      "|2023-07-19T00:04:05Z|{https://avatars....| 20737024|      JarlGabriel|User| added|              null|      joaopaulobco|joaopaulobco/plan...|MemberEvent|\n",
      "|2023-07-19T00:04:24Z|{https://avatars....|  9092644|      betocantu93|User| added|           prysmex|           prysmex|prysmex/ember-g-r...|MemberEvent|\n",
      "|2023-07-19T00:04:29Z|{https://avatars....|139927434|       telezjuani|User| added|              null|         juantelez|juantelez/test-fe...|MemberEvent|\n",
      "|2023-07-19T00:04:44Z|{https://avatars....|139245349|          TriLieu|User| added|              null|        DyDragon16|DyDragon16/QuanLy...|MemberEvent|\n",
      "|2023-07-19T00:04:53Z|{https://avatars....|134017264|Melisa-Martinetti|User| added|              null|     giulianaleoni|giulianaleoni/Eta...|MemberEvent|\n",
      "|2023-07-19T00:04:54Z|{https://avatars....| 19673636|        leolanavo|User| added|        deco-sites|             lucis|  deco-sites/fashion|MemberEvent|\n",
      "|2023-07-19T00:04:55Z|{https://avatars....| 43257699|         jaimindp|User| added|              null|   jessicapointing|jessicapointing/a...|MemberEvent|\n",
      "|2023-07-19T00:05:25Z|{https://avatars....|131085447| gabriel-eschmidt|User| added|              null|        TalysonAlm|TalysonAlm/Microd...|MemberEvent|\n",
      "|2023-07-19T00:05:34Z|{https://avatars....|139930345|   josiekennedy97|User| added|              null| AlbornozAlejandro|AlbornozAlejandro...|MemberEvent|\n",
      "|2023-07-19T00:05:59Z|{https://avatars....| 79961012|      seoyeon0327|User| added|              null|            minsgo|    minsgo/HumanSoft|MemberEvent|\n",
      "|2023-07-19T00:07:21Z|{https://avatars....|138938543|      tiagoolinda|User| added|              null|    GabrielLopes03|GabrielLopes03/Pr...|MemberEvent|\n",
      "|2023-07-19T00:07:21Z|{https://avatars....|102682105|  Angel-Carde-Pro|User| added|              null|       Miguel13fdf|Miguel13fdf/BACKE...|MemberEvent|\n",
      "|2023-07-19T00:07:26Z|{https://avatars....| 65473602|        mpurnell1|User| added|              null|   farmafield-labs|farmafield-labs/d...|MemberEvent|\n",
      "|2023-07-19T00:07:31Z|{https://avatars....|112268910|         Tonna7SA|User| added|              null|     guillermoyano|guillermoyano/Pro...|MemberEvent|\n",
      "|2023-07-19T00:07:40Z|{https://avatars....|130781666|          Gellart|User| added|   Hackademy-PT-08|   Hackademy-PT-08|Hackademy-PT-08/l...|MemberEvent|\n",
      "|2023-07-19T00:07:45Z|{https://avatars....|101217966|    haithemelhadj|User| added|              null|      helaayadi311|helaayadi311/Horr...|MemberEvent|\n",
      "|2023-07-19T00:07:54Z|{https://avatars....|108704062|    patrickkim122|User| added|              null|            azyl20|azyl20/comp9417-g...|MemberEvent|\n",
      "|2023-07-19T00:07:54Z|{https://avatars....| 36546740|           Serjux|User| added|              null|      eduardscript|eduardscript/Prim...|MemberEvent|\n",
      "|2023-07-19T00:08:31Z|{https://avatars....|  1315451|        augustocb|User| added|        deco-sites|           decobot|deco-sites/testin...|MemberEvent|\n",
      "|2023-07-19T00:08:39Z|{https://avatars....| 80745608|     alxdofficial|User| added|              null|        charan1319|charan1319/out-of...|MemberEvent|\n",
      "|2023-07-19T00:08:39Z|{https://avatars....| 43484785|       KitKirby21|User| added|              null|         clchaffee|   clchaffee/Harmony|MemberEvent|\n",
      "|2023-07-19T00:08:41Z|{https://avatars....| 92136241|         sota5460|User| added|              null|      anmandaisuki|anmandaisuki/JESD...|MemberEvent|\n",
      "|2023-07-19T00:08:56Z|{https://avatars....|115582126|          Facu185|User| added|              null|             Sxnty|Sxnty/medialab-la...|MemberEvent|\n",
      "|2023-07-19T00:09:24Z|{https://avatars....| 94148712|         SamanyaG|User| added|              null|         parnika-c|parnika-c/RookieC...|MemberEvent|\n",
      "|2023-07-19T00:09:28Z|{https://avatars....| 95581637|  briyannEmmanuel|User| added|              null|      thiambabel19|thiambabel19/Date...|MemberEvent|\n",
      "|2023-07-19T00:09:30Z|{https://avatars....|139926868|         gaganach|User| added|              null|         nozarilab|nozarilab/2023Ach...|MemberEvent|\n",
      "|2023-07-19T00:09:34Z|{https://avatars....|128885460|         Jotporte|User| added|     4GeeksAcademy|     4GeeksAcademy|4GeeksAcademy/Abo...|MemberEvent|\n",
      "|2023-07-19T00:09:35Z|{https://avatars....| 86372045|           jala88|User| added|              null|       pancito2702|pancito2702/DBA-N...|MemberEvent|\n",
      "+--------------------+--------------------+---------+-----------------+----+------+------------------+------------------+--------------------+-----------+\n",
      "only showing top 50 rows\n",
      "\n"
     ]
    }
   ],
   "source": [
    "df.select(\n",
    "    df['created_at'],\n",
    "    df[\"payload.member\"],\n",
    "    df[\"payload.member.id\"],\n",
    "    df[\"payload.member.login\"],\n",
    "    df[\"payload.member.type\"],\n",
    "    df[\"payload.action\"],\n",
    "    df[\"org.login\"],\n",
    "    df[\"actor.login\"],\n",
    "    df[\"repo.name\"],\n",
    "    df[\"type\"],\n",
    ").filter(df[\"type\"] == 'MemberEvent').show(50)"
   ]
  },
  {
   "cell_type": "code",
   "execution_count": 62,
   "id": "a307acce-56be-4ac9-9468-52a5bd4cfad2",
   "metadata": {},
   "outputs": [
    {
     "name": "stdout",
     "output_type": "stream",
     "text": [
      "+----------+-------------------+--------------+-----------+---------------+---------------+--------------------+--------------------+---------------+\n",
      "|      date|         created_at|  member_login|member_type|      org_login|    actor_login|      repo_name_full|           repo_name|    repo_author|\n",
      "+----------+-------------------+--------------+-----------+---------------+---------------+--------------------+--------------------+---------------+\n",
      "|2023-07-19|2023-07-19 00:00:25|        MNRMax|       User|       SammyGPT|       AntoDono|SammyGPT/SammyGPT...|   SammyGPT-Frontend|       SammyGPT|\n",
      "|2023-07-19|2023-07-19 00:00:31|    lavywei666|       User|           null|   Alexstarwing|Alexstarwing/Hire...|            Hirebeat|   Alexstarwing|\n",
      "|2023-07-19|2023-07-19 00:00:37|       Gellart|       User|Hackademy-PT-08|Hackademy-PT-08|Hackademy-PT-08/l...|laravel_04_Gellar...|Hackademy-PT-08|\n",
      "|2023-07-19|2023-07-19 00:00:51|  PierColina98|       User|           null|KevinVargas1999|KevinVargas1999/O...|OSPF-MA-GrupoAven...|KevinVargas1999|\n",
      "|2023-07-19|2023-07-19 00:00:57|shepherdjerred|       User|        earthly|        Velutas|earthly/devcontai...|devcontainer-feat...|        earthly|\n",
      "|2023-07-19|2023-07-19 00:01:11|    alcastle01|       User|           null|     Kevinn0809|Kevinn0809/crista...|      cristales_rico|     Kevinn0809|\n",
      "|2023-07-19|2023-07-19 00:01:35|      Rorronix|       User|         edd-ic|         edd-ic|edd-ic/Grupo-05-H...|    Grupo-05-Hash-DA|         edd-ic|\n",
      "|2023-07-19|2023-07-19 00:01:38|  hannahhhhysp|       User|           null|  AniahMathurin|AniahMathurin/Fin...|Final-Python-Project|  AniahMathurin|\n",
      "|2023-07-19|2023-07-19 00:02:02|         amiel|       User|        bentohq|   nathancarnes|       bentohq/bulma|               bulma|        bentohq|\n",
      "|2023-07-19|2023-07-19 00:02:07|     Spriteson|       User|           null|   Alexstarwing|Alexstarwing/Hire...|            Hirebeat|   Alexstarwing|\n",
      "+----------+-------------------+--------------+-----------+---------------+---------------+--------------------+--------------------+---------------+\n",
      "only showing top 10 rows\n",
      "\n",
      "\n",
      "        Degree of ~compression~ via aggregation: 478.97 (270 / 129321)\n",
      "        \n"
     ]
    }
   ],
   "source": [
    "df_members = spark.sql(\n",
    "    \"\"\"\n",
    "    SELECT\n",
    "        date(created_at) as date,\n",
    "        timestamp(created_at) as created_at,\n",
    "        payload.member.login as member_login,\n",
    "        payload.member.type as member_type,\n",
    "        org.login as org_login,\n",
    "        actor.login as actor_login,\n",
    "        repo.name as repo_name_full,\n",
    "        repo_name,\n",
    "        repo_author\n",
    "    FROM activity\n",
    "    WHERE\n",
    "        type = 'MemberEvent'\n",
    "        and payload.action = 'added'\n",
    "    \"\"\"\n",
    ")\n",
    "\n",
    "df_members.show(10)\n",
    "\n",
    "compresion_degree(df_members, df)"
   ]
  },
  {
   "cell_type": "code",
   "execution_count": 63,
   "id": "841dd19d-9dd5-4820-8a69-2c0add5985ff",
   "metadata": {},
   "outputs": [
    {
     "data": {
      "text/plain": [
       "[('date', 'date'),\n",
       " ('created_at', 'timestamp'),\n",
       " ('member_login', 'string'),\n",
       " ('member_type', 'string'),\n",
       " ('org_login', 'string'),\n",
       " ('actor_login', 'string'),\n",
       " ('repo_name_full', 'string'),\n",
       " ('repo_name', 'string'),\n",
       " ('repo_author', 'string')]"
      ]
     },
     "execution_count": 63,
     "metadata": {},
     "output_type": "execute_result"
    }
   ],
   "source": [
    "df_members.dtypes"
   ]
  },
  {
   "cell_type": "code",
   "execution_count": 118,
   "id": "1d250910-ba47-42d3-a872-b024d3aaa31a",
   "metadata": {},
   "outputs": [
    {
     "name": "stdout",
     "output_type": "stream",
     "text": [
      "+--------------------+-------------------+\n",
      "|                name|total_member_logins|\n",
      "+--------------------+-------------------+\n",
      "|jgranadoscunoc/re...|                 29|\n",
      "|Jucer74/WebDevelo...|                 17|\n",
      "|hdtoledo/nodejs_a...|                 11|\n",
      "|InstrucJavaReclui...|                  9|\n",
      "|ChungLeba/nextjsv...|                  9|\n",
      "|iramgutierrez/433...|                  9|\n",
      "|emrchi/TestNGProj...|                  8|\n",
      "|aydaakcay/TestPro...|                  7|\n",
      "|ufuk-muhsiroglu/T...|                  7|\n",
      "|GoldenMEmre/com.w...|                  7|\n",
      "+--------------------+-------------------+\n",
      "only showing top 10 rows\n",
      "\n"
     ]
    }
   ],
   "source": [
    "spark.sql(\n",
    "    \"\"\"\n",
    "    SELECT\n",
    "        repo.name,\n",
    "        count(distinct payload.member.login) as total_member_logins\n",
    "    FROM activity\n",
    "    WHERE\n",
    "        type = 'MemberEvent'\n",
    "        and payload.action = 'added'\n",
    "    GROUP BY\n",
    "        repo.name\n",
    "    ORDER BY\n",
    "        total_member_logins DESC\n",
    "    \"\"\"\n",
    ").show(10)"
   ]
  },
  {
   "cell_type": "code",
   "execution_count": 119,
   "id": "96392795-70bf-4e24-b132-eff24abc2373",
   "metadata": {},
   "outputs": [
    {
     "name": "stdout",
     "output_type": "stream",
     "text": [
      "+----------+----+--------------------+-------------------+\n",
      "|      date|hour|                name|total_member_logins|\n",
      "+----------+----+--------------------+-------------------+\n",
      "|2023-07-27|  20|jgranadoscunoc/re...|                 21|\n",
      "|2023-07-28|   1|Jucer74/WebDevelo...|                 16|\n",
      "|2023-07-28|   1|InstrucJavaReclui...|                  9|\n",
      "|2023-07-27|  19|hdtoledo/nodejs_a...|                  9|\n",
      "|2023-07-27|  19|emrchi/TestNGProj...|                  7|\n",
      "|2023-07-27|  19|ufuk-muhsiroglu/T...|                  7|\n",
      "|2023-07-27|  18|aydaakcay/TestPro...|                  7|\n",
      "|2023-07-27|  18|GoldenMEmre/com.w...|                  7|\n",
      "|2023-07-27|  19|mehmetfilik/comWo...|                  6|\n",
      "|2023-07-27|  19|FabianoCarneiro/p...|                  6|\n",
      "+----------+----+--------------------+-------------------+\n",
      "only showing top 10 rows\n",
      "\n"
     ]
    }
   ],
   "source": [
    "spark.sql(\n",
    "    \"\"\"\n",
    "    SELECT\n",
    "        date(created_at) as date,\n",
    "        hour(created_at) as hour,\n",
    "        repo.name,\n",
    "        count(distinct payload.member.login) as total_member_logins\n",
    "    FROM activity\n",
    "    WHERE\n",
    "        type = 'MemberEvent'\n",
    "        and payload.action = 'added'\n",
    "    GROUP BY\n",
    "        date, hour, repo.name\n",
    "    ORDER BY\n",
    "        total_member_logins DESC\n",
    "    \"\"\"\n",
    ").show(10)"
   ]
  },
  {
   "cell_type": "code",
   "execution_count": 122,
   "id": "38db048e-cb7a-4fcf-83a3-d9dd75046e31",
   "metadata": {},
   "outputs": [
    {
     "name": "stdout",
     "output_type": "stream",
     "text": [
      "+----------+----+--------------------+--------------------+---------------+\n",
      "|      date|hour|          created_at|                name|    member_name|\n",
      "+----------+----+--------------------+--------------------+---------------+\n",
      "|2023-07-27|  18|2023-07-27T18:00:15Z|noirblancrouge/Pa...|        bsozeau|\n",
      "|2023-07-27|  18|2023-07-27T18:00:31Z| Spinofficial/printf|     RolivhuwaN|\n",
      "|2023-07-27|  18|2023-07-27T18:00:33Z| faellm/calculoRotas|    stheeCamile|\n",
      "|2023-07-27|  18|2023-07-27T18:00:39Z|Programmer231/Roc...|   bevin-crypto|\n",
      "|2023-07-27|  18|2023-07-27T18:00:41Z|    Drefdu/DentalNew|AntonioEstrada0|\n",
      "|2023-07-27|  18|2023-07-27T18:00:44Z|code-X16/simple_s...|      udeme-goc|\n",
      "|2023-07-27|  18|2023-07-27T18:01:13Z|maxDes23/project-...|       MadDog83|\n",
      "|2023-07-27|  18|2023-07-27T18:01:15Z|Diego582/ideas-pi...|       FedeSabi|\n",
      "|2023-07-27|  18|2023-07-27T18:01:16Z|CaravanStudios/dc...| caseylivingood|\n",
      "|2023-07-27|  18|2023-07-27T18:01:20Z|devfabien/Gym-git...| IbrahimBagalwa|\n",
      "+----------+----+--------------------+--------------------+---------------+\n",
      "only showing top 10 rows\n",
      "\n"
     ]
    }
   ],
   "source": [
    "spark.sql(\n",
    "    \"\"\"\n",
    "    SELECT\n",
    "        date(created_at) as date,\n",
    "        hour(created_at) as hour,\n",
    "        created_at,\n",
    "        repo.name,\n",
    "        payload.member.login as member_name\n",
    "    FROM activity\n",
    "    WHERE\n",
    "        type = 'MemberEvent'\n",
    "        and payload.action = 'added'\n",
    "    ORDER BY\n",
    "        date ASC,\n",
    "        hour ASC,\n",
    "        created_at ASC,\n",
    "        repo.name ASC,\n",
    "        member_name ASC\n",
    "    \"\"\"\n",
    ").show(10)"
   ]
  },
  {
   "cell_type": "markdown",
   "id": "95a35c5a-0d23-4572-b460-6a64a1acec15",
   "metadata": {
    "jp-MarkdownHeadingCollapsed": true
   },
   "source": [
    "#### Limitations & Problems\n",
    "\n",
    "1. As the snapshots in GHARCHIVE are hourly-based, there is __no data__ about the past activity for the repositories. \\\n",
    "So without the past activity, the number of members is incomplete and can be based only on the activities, like 'MemberEvent', that we've crawled & stored. \\\n",
    "On how to overcome this, please read the next section, `How can it be improved?`"
   ]
  },
  {
   "cell_type": "markdown",
   "id": "4bce98c5-2b5e-4301-bdaa-de66c582b554",
   "metadata": {},
   "source": [
    "#### How can it be improved?\n",
    "\n",
    "* Get bigger slice of data - and do the next thing:\n",
    "  * Store daily snapshots of all unique combinations of `date`, `repo`, `member`, 'action'\n",
    "  * Provide the metrics by getting the global `count(distinct member)` aggregation on group of `repo`-s"
   ]
  },
  {
   "cell_type": "code",
   "execution_count": null,
   "id": "8e44d0ad-ff5a-48dc-ba49-86aef461211d",
   "metadata": {},
   "outputs": [],
   "source": []
  },
  {
   "cell_type": "code",
   "execution_count": null,
   "id": "62e9677a-3380-42f2-b4af-579b07f186cc",
   "metadata": {},
   "outputs": [],
   "source": []
  },
  {
   "cell_type": "code",
   "execution_count": null,
   "id": "79ea64f0-0248-4800-926a-3760e7cc9bf4",
   "metadata": {},
   "outputs": [],
   "source": []
  }
 ],
 "metadata": {
  "kernelspec": {
   "display_name": "Python 3 (ipykernel)",
   "language": "python",
   "name": "python3"
  },
  "language_info": {
   "codemirror_mode": {
    "name": "ipython",
    "version": 3
   },
   "file_extension": ".py",
   "mimetype": "text/x-python",
   "name": "python",
   "nbconvert_exporter": "python",
   "pygments_lexer": "ipython3",
   "version": "3.11.4"
  }
 },
 "nbformat": 4,
 "nbformat_minor": 5
}
