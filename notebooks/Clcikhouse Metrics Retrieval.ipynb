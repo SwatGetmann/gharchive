{
 "cells": [
  {
   "cell_type": "markdown",
   "id": "ac584daf-cd43-47c6-bfcb-1ef75030aef3",
   "metadata": {},
   "source": [
    "# Metrics Retrieval - from Clickhouse"
   ]
  },
  {
   "cell_type": "markdown",
   "id": "5e7d28ff-4e85-46c9-b0c4-7c6a9051c7b9",
   "metadata": {},
   "source": [
    "On the previous steps we've already:\n",
    "1. Crawled archives via Airflow\n",
    "2. Processed them via Airflow -> Spark job(s)\n",
    "    * When procesing, we've stored daily & hourly datasets into Clickhouse, to be later used for aggregations.\n",
    "\n",
    "This step in exactly about aggregating data from Clcikhouse to get desired metrics.\n",
    "\n",
    "Eventually, this fella will be ALSO wrapped into an Airflow job, which will be triggered after the daily Spark job is done."
   ]
  },
  {
   "cell_type": "markdown",
   "id": "5281482f-686e-4819-8010-9ed77ae6eb63",
   "metadata": {},
   "source": [
    "# Implementation"
   ]
  },
  {
   "cell_type": "code",
   "execution_count": 1,
   "id": "577687a9-1847-4378-a4c5-5151e93d395b",
   "metadata": {},
   "outputs": [],
   "source": [
    "import clickhouse_connect\n",
    "\n",
    "# I konw, it's unsafe, and should be rewritten wo use ENVs at least\n",
    "client = clickhouse_connect.get_client(\n",
    "    host='clickhouse_server', \n",
    "    username='altenar', \n",
    "    password='altenar_ch_demo_517'\n",
    ")"
   ]
  },
  {
   "cell_type": "markdown",
   "id": "dd626989-00c7-4ce9-b584-d6b0cb735195",
   "metadata": {},
   "source": [
    "## Use Database for GHArchive Project"
   ]
  },
  {
   "cell_type": "code",
   "execution_count": 6,
   "id": "7551dc71-7b37-4792-888b-5164e9e1264a",
   "metadata": {},
   "outputs": [
    {
     "data": {
      "text/plain": [
       "''"
      ]
     },
     "execution_count": 6,
     "metadata": {},
     "output_type": "execute_result"
    }
   ],
   "source": [
    "client.command('USE gharchive;')"
   ]
  },
  {
   "cell_type": "code",
   "execution_count": 8,
   "id": "4b8b89bd-e0c5-430d-8964-80a943cfc9df",
   "metadata": {},
   "outputs": [
    {
     "name": "stdout",
     "output_type": "stream",
     "text": [
      "commits\n",
      "members\n",
      "repo_aggregated\n",
      "repos\n",
      "test_table\n"
     ]
    }
   ],
   "source": [
    "print(client.command(\"show tables from gharchive;\"))"
   ]
  },
  {
   "cell_type": "markdown",
   "id": "7ee2d634-3f0d-4186-af7c-8089f168c5e7",
   "metadata": {},
   "source": [
    "## Metric 1. Repo Ownership"
   ]
  },
  {
   "cell_type": "markdown",
   "id": "0ffc4a95-a144-4863-990c-c7905d614833",
   "metadata": {},
   "source": [
    "List of Developers that own more than one repository;"
   ]
  },
  {
   "cell_type": "code",
   "execution_count": 14,
   "id": "d4dd05d2-ce12-45d7-be3b-7bc387b9921f",
   "metadata": {},
   "outputs": [],
   "source": [
    "cmd = \"\"\"\n",
    "SELECT\n",
    "    repo_author,\n",
    "    countDistinct(repo_name) AS repos_total\n",
    "FROM gharchive.repos\n",
    "GROUP BY repo_author\n",
    "HAVING repos_total > 1\n",
    "ORDER BY repos_total DESC\n",
    "\"\"\""
   ]
  },
  {
   "cell_type": "code",
   "execution_count": 11,
   "id": "7d11189b-48dd-4725-b027-42b7d8c16674",
   "metadata": {},
   "outputs": [
    {
     "name": "stdout",
     "output_type": "stream",
     "text": [
      "Help on method query_df in module clickhouse_connect.driver.client:\n",
      "\n",
      "query_df(query: str = None, parameters: Union[Sequence, Dict[str, Any], NoneType] = None, settings: Optional[Dict[str, Any]] = None, query_formats: Optional[Dict[str, str]] = None, column_formats: Optional[Dict[str, str]] = None, encoding: Optional[str] = None, use_none: Optional[bool] = None, max_str_len: Optional[int] = None, use_na_values: Optional[bool] = None, query_tz: Optional[str] = None, column_tzs: Optional[Dict[str, Union[str, datetime.tzinfo]]] = None, context: clickhouse_connect.driver.query.QueryContext = None, external_data: Optional[clickhouse_connect.driver.external.ExternalData] = None, use_extended_dtypes: Optional[bool] = None) method of clickhouse_connect.driver.httpclient.HttpClient instance\n",
      "    Query method that results the results as a pandas dataframe.  For parameter values, see the\n",
      "    create_query_context method\n",
      "    :return: Pandas dataframe representing the result set\n",
      "\n"
     ]
    }
   ],
   "source": [
    "help(client.query_df)"
   ]
  },
  {
   "cell_type": "code",
   "execution_count": 12,
   "id": "595ef03d-50f3-4869-9ae9-f994caedd501",
   "metadata": {},
   "outputs": [],
   "source": [
    "import pandas as pd"
   ]
  },
  {
   "cell_type": "code",
   "execution_count": 15,
   "id": "47827538-1abb-45de-b112-09b5f08a3df3",
   "metadata": {},
   "outputs": [],
   "source": [
    "df = client.query_df(query=cmd)"
   ]
  },
  {
   "cell_type": "code",
   "execution_count": 16,
   "id": "da2c1e9f-7349-492d-b931-ec31e80ae325",
   "metadata": {},
   "outputs": [
    {
     "data": {
      "text/html": [
       "<div>\n",
       "<style scoped>\n",
       "    .dataframe tbody tr th:only-of-type {\n",
       "        vertical-align: middle;\n",
       "    }\n",
       "\n",
       "    .dataframe tbody tr th {\n",
       "        vertical-align: top;\n",
       "    }\n",
       "\n",
       "    .dataframe thead th {\n",
       "        text-align: right;\n",
       "    }\n",
       "</style>\n",
       "<table border=\"1\" class=\"dataframe\">\n",
       "  <thead>\n",
       "    <tr style=\"text-align: right;\">\n",
       "      <th></th>\n",
       "      <th>repo_author</th>\n",
       "      <th>repos_total</th>\n",
       "    </tr>\n",
       "  </thead>\n",
       "  <tbody>\n",
       "    <tr>\n",
       "      <th>0</th>\n",
       "      <td>direwolf-github</td>\n",
       "      <td>8894</td>\n",
       "    </tr>\n",
       "    <tr>\n",
       "      <th>1</th>\n",
       "      <td>pmacik-testing</td>\n",
       "      <td>6659</td>\n",
       "    </tr>\n",
       "    <tr>\n",
       "      <th>2</th>\n",
       "      <td>MetadataGitTesting</td>\n",
       "      <td>5145</td>\n",
       "    </tr>\n",
       "    <tr>\n",
       "      <th>3</th>\n",
       "      <td>redhat-appstudio-qe</td>\n",
       "      <td>2481</td>\n",
       "    </tr>\n",
       "    <tr>\n",
       "      <th>4</th>\n",
       "      <td>acciojob</td>\n",
       "      <td>2011</td>\n",
       "    </tr>\n",
       "    <tr>\n",
       "      <th>...</th>\n",
       "      <td>...</td>\n",
       "      <td>...</td>\n",
       "    </tr>\n",
       "    <tr>\n",
       "      <th>272663</th>\n",
       "      <td>Ilsha</td>\n",
       "      <td>2</td>\n",
       "    </tr>\n",
       "    <tr>\n",
       "      <th>272664</th>\n",
       "      <td>uweremer</td>\n",
       "      <td>2</td>\n",
       "    </tr>\n",
       "    <tr>\n",
       "      <th>272665</th>\n",
       "      <td>pwndbg</td>\n",
       "      <td>2</td>\n",
       "    </tr>\n",
       "    <tr>\n",
       "      <th>272666</th>\n",
       "      <td>coinos</td>\n",
       "      <td>2</td>\n",
       "    </tr>\n",
       "    <tr>\n",
       "      <th>272667</th>\n",
       "      <td>moonozz</td>\n",
       "      <td>2</td>\n",
       "    </tr>\n",
       "  </tbody>\n",
       "</table>\n",
       "<p>272668 rows × 2 columns</p>\n",
       "</div>"
      ],
      "text/plain": [
       "                repo_author  repos_total\n",
       "0           direwolf-github         8894\n",
       "1            pmacik-testing         6659\n",
       "2        MetadataGitTesting         5145\n",
       "3       redhat-appstudio-qe         2481\n",
       "4                  acciojob         2011\n",
       "...                     ...          ...\n",
       "272663                Ilsha            2\n",
       "272664             uweremer            2\n",
       "272665               pwndbg            2\n",
       "272666               coinos            2\n",
       "272667              moonozz            2\n",
       "\n",
       "[272668 rows x 2 columns]"
      ]
     },
     "execution_count": 16,
     "metadata": {},
     "output_type": "execute_result"
    }
   ],
   "source": [
    "df"
   ]
  },
  {
   "cell_type": "code",
   "execution_count": 17,
   "id": "abe2a955-6ce2-4989-960d-c2b495545120",
   "metadata": {},
   "outputs": [],
   "source": [
    "from datetime import datetime, timedelta"
   ]
  },
  {
   "cell_type": "code",
   "execution_count": 18,
   "id": "e8f8ebf9-2c3b-4adc-ae66-3af596ea7f35",
   "metadata": {},
   "outputs": [],
   "source": [
    "now = datetime.now()"
   ]
  },
  {
   "cell_type": "code",
   "execution_count": 19,
   "id": "816f8fb8-de34-45c6-b90a-48428985369f",
   "metadata": {},
   "outputs": [],
   "source": [
    "df.to_csv(\"./repos_{}.csv\".format(now.strftime(\"%F\")))"
   ]
  },
  {
   "cell_type": "markdown",
   "id": "4c925838-6d35-49fc-9533-c6694fa1b35d",
   "metadata": {},
   "source": [
    "## Metric 2. Devs with more than 1 commit"
   ]
  },
  {
   "cell_type": "markdown",
   "id": "e0add65b-c726-439e-9f24-0207717d885a",
   "metadata": {},
   "source": [
    "List of Developers who did more than one commit in a day, ordered by name and number of commits;"
   ]
  },
  {
   "cell_type": "code",
   "execution_count": 22,
   "id": "1a122a18-cce0-4e3c-87f1-68cebfb2b33d",
   "metadata": {},
   "outputs": [],
   "source": [
    "cmd = \"\"\"\n",
    "SELECT                                                                                                                                                                                                                                                                   \n",
    "    date,\n",
    "    author_name,\n",
    "    count(*) AS total_commits\n",
    "FROM gharchive.commits\n",
    "GROUP BY\n",
    "    date,\n",
    "    author_name\n",
    "HAVING total_commits >= 2\n",
    "ORDER BY\n",
    "    author_name ASC,\n",
    "    total_commits DESC\n",
    "\"\"\""
   ]
  },
  {
   "cell_type": "code",
   "execution_count": 12,
   "id": "9b3cd9d9-c42d-47d2-9be1-5f0e632721c9",
   "metadata": {},
   "outputs": [],
   "source": [
    "import pandas as pd"
   ]
  },
  {
   "cell_type": "code",
   "execution_count": 23,
   "id": "eaeb7e01-0f72-4ab1-8cfa-f1788fae5486",
   "metadata": {},
   "outputs": [],
   "source": [
    "df = client.query_df(query=cmd)"
   ]
  },
  {
   "cell_type": "code",
   "execution_count": 24,
   "id": "0b597915-825b-4c5f-b7c2-0413a5052992",
   "metadata": {
    "scrolled": true
   },
   "outputs": [
    {
     "data": {
      "text/html": [
       "<div>\n",
       "<style scoped>\n",
       "    .dataframe tbody tr th:only-of-type {\n",
       "        vertical-align: middle;\n",
       "    }\n",
       "\n",
       "    .dataframe tbody tr th {\n",
       "        vertical-align: top;\n",
       "    }\n",
       "\n",
       "    .dataframe thead th {\n",
       "        text-align: right;\n",
       "    }\n",
       "</style>\n",
       "<table border=\"1\" class=\"dataframe\">\n",
       "  <thead>\n",
       "    <tr style=\"text-align: right;\">\n",
       "      <th></th>\n",
       "      <th>date</th>\n",
       "      <th>author_name</th>\n",
       "      <th>total_commits</th>\n",
       "    </tr>\n",
       "  </thead>\n",
       "  <tbody>\n",
       "    <tr>\n",
       "      <th>0</th>\n",
       "      <td>2023-07-20</td>\n",
       "      <td></td>\n",
       "      <td>1976</td>\n",
       "    </tr>\n",
       "    <tr>\n",
       "      <th>1</th>\n",
       "      <td>2023-07-21</td>\n",
       "      <td></td>\n",
       "      <td>1972</td>\n",
       "    </tr>\n",
       "    <tr>\n",
       "      <th>2</th>\n",
       "      <td>2023-07-19</td>\n",
       "      <td></td>\n",
       "      <td>1730</td>\n",
       "    </tr>\n",
       "    <tr>\n",
       "      <th>3</th>\n",
       "      <td>2023-07-20</td>\n",
       "      <td>! Lucam</td>\n",
       "      <td>10</td>\n",
       "    </tr>\n",
       "    <tr>\n",
       "      <th>4</th>\n",
       "      <td>2023-07-19</td>\n",
       "      <td>! Ruwin.zkr</td>\n",
       "      <td>10</td>\n",
       "    </tr>\n",
       "    <tr>\n",
       "      <th>...</th>\n",
       "      <td>...</td>\n",
       "      <td>...</td>\n",
       "      <td>...</td>\n",
       "    </tr>\n",
       "    <tr>\n",
       "      <th>850934</th>\n",
       "      <td>2023-07-20</td>\n",
       "      <td>🤖 automated</td>\n",
       "      <td>16</td>\n",
       "    </tr>\n",
       "    <tr>\n",
       "      <th>850935</th>\n",
       "      <td>2023-07-19</td>\n",
       "      <td>🤖 automated</td>\n",
       "      <td>13</td>\n",
       "    </tr>\n",
       "    <tr>\n",
       "      <th>850936</th>\n",
       "      <td>2023-07-19</td>\n",
       "      <td>🦄Pegasus (DarkStar☀)</td>\n",
       "      <td>22</td>\n",
       "    </tr>\n",
       "    <tr>\n",
       "      <th>850937</th>\n",
       "      <td>2023-07-20</td>\n",
       "      <td>🦄Pegasus (DarkStar☀)</td>\n",
       "      <td>17</td>\n",
       "    </tr>\n",
       "    <tr>\n",
       "      <th>850938</th>\n",
       "      <td>2023-07-21</td>\n",
       "      <td>🦉🤖 Safe Bot</td>\n",
       "      <td>9</td>\n",
       "    </tr>\n",
       "  </tbody>\n",
       "</table>\n",
       "<p>850939 rows × 3 columns</p>\n",
       "</div>"
      ],
      "text/plain": [
       "             date           author_name  total_commits\n",
       "0      2023-07-20                                 1976\n",
       "1      2023-07-21                                 1972\n",
       "2      2023-07-19                                 1730\n",
       "3      2023-07-20               ! Lucam             10\n",
       "4      2023-07-19           ! Ruwin.zkr             10\n",
       "...           ...                   ...            ...\n",
       "850934 2023-07-20           🤖 automated             16\n",
       "850935 2023-07-19           🤖 automated             13\n",
       "850936 2023-07-19  🦄Pegasus (DarkStar☀)             22\n",
       "850937 2023-07-20  🦄Pegasus (DarkStar☀)             17\n",
       "850938 2023-07-21           🦉🤖 Safe Bot              9\n",
       "\n",
       "[850939 rows x 3 columns]"
      ]
     },
     "execution_count": 24,
     "metadata": {},
     "output_type": "execute_result"
    }
   ],
   "source": [
    "df"
   ]
  },
  {
   "cell_type": "code",
   "execution_count": 25,
   "id": "1860bd7c-67eb-4b42-b5d3-b77917475968",
   "metadata": {},
   "outputs": [],
   "source": [
    "now = datetime.now()"
   ]
  },
  {
   "cell_type": "code",
   "execution_count": 26,
   "id": "84cba9ce-b418-46b7-a2b1-821549811dcd",
   "metadata": {},
   "outputs": [],
   "source": [
    "df.to_csv(\"./commits_gt1_{}.csv\".format(now.strftime(\"%F\")))"
   ]
  },
  {
   "cell_type": "markdown",
   "id": "3a1a47ab-72da-4918-a308-86ad5901b1d5",
   "metadata": {},
   "source": [
    "## Metric 3. Devs with __less__ than 1 commit"
   ]
  },
  {
   "cell_type": "markdown",
   "id": "42c11852-1dc0-45c3-9c86-74500063c668",
   "metadata": {},
   "source": [
    "List of Developers with less than one commit in a day;"
   ]
  },
  {
   "cell_type": "code",
   "execution_count": 27,
   "id": "d06b9ca2-fefd-4ddb-9888-34f10f76e975",
   "metadata": {},
   "outputs": [],
   "source": [
    "# Take min and max datetime from commits - those are ranges by which we'll move"
   ]
  },
  {
   "cell_type": "code",
   "execution_count": 41,
   "id": "c3760fc7-3a37-4fec-bf1d-35a4a05829b7",
   "metadata": {},
   "outputs": [],
   "source": [
    "cmd = \"\"\"\n",
    "SELECT\n",
    "    toDate(min(created_at)) AS min_created_at,\n",
    "    toDate(max(created_at)) AS max_created_at\n",
    "FROM gharchive.commits\n",
    "\"\"\""
   ]
  },
  {
   "cell_type": "code",
   "execution_count": 42,
   "id": "879e47ba-bc74-4814-8f4b-772a8925d82c",
   "metadata": {},
   "outputs": [],
   "source": [
    "dates_df = client.query_df(query=cmd)"
   ]
  },
  {
   "cell_type": "code",
   "execution_count": 43,
   "id": "dd5da4cf-f9d4-4d85-bda9-dcb12427ad83",
   "metadata": {
    "scrolled": true
   },
   "outputs": [
    {
     "data": {
      "text/html": [
       "<div>\n",
       "<style scoped>\n",
       "    .dataframe tbody tr th:only-of-type {\n",
       "        vertical-align: middle;\n",
       "    }\n",
       "\n",
       "    .dataframe tbody tr th {\n",
       "        vertical-align: top;\n",
       "    }\n",
       "\n",
       "    .dataframe thead th {\n",
       "        text-align: right;\n",
       "    }\n",
       "</style>\n",
       "<table border=\"1\" class=\"dataframe\">\n",
       "  <thead>\n",
       "    <tr style=\"text-align: right;\">\n",
       "      <th></th>\n",
       "      <th>min_created_at</th>\n",
       "      <th>max_created_at</th>\n",
       "    </tr>\n",
       "  </thead>\n",
       "  <tbody>\n",
       "    <tr>\n",
       "      <th>0</th>\n",
       "      <td>2023-07-19</td>\n",
       "      <td>2023-07-21</td>\n",
       "    </tr>\n",
       "  </tbody>\n",
       "</table>\n",
       "</div>"
      ],
      "text/plain": [
       "  min_created_at max_created_at\n",
       "0     2023-07-19     2023-07-21"
      ]
     },
     "execution_count": 43,
     "metadata": {},
     "output_type": "execute_result"
    }
   ],
   "source": [
    "dates_df"
   ]
  },
  {
   "cell_type": "code",
   "execution_count": 47,
   "id": "0508eb12-8b8c-446c-b6d6-d04b9ee0c9ce",
   "metadata": {},
   "outputs": [
    {
     "data": {
      "text/plain": [
       "'2023-07-19'"
      ]
     },
     "execution_count": 47,
     "metadata": {},
     "output_type": "execute_result"
    }
   ],
   "source": [
    "dates_df['min_created_at'][0].strftime(\"%F\")"
   ]
  },
  {
   "cell_type": "code",
   "execution_count": 46,
   "id": "ff531116-fcf4-4df5-84be-44a065845370",
   "metadata": {},
   "outputs": [
    {
     "data": {
      "text/plain": [
       "Timestamp('2023-07-21 00:00:00')"
      ]
     },
     "execution_count": 46,
     "metadata": {},
     "output_type": "execute_result"
    }
   ],
   "source": [
    "dates_df['max_created_at'][0]"
   ]
  },
  {
   "cell_type": "code",
   "execution_count": 53,
   "id": "bfc11669-f767-47c0-a449-2c7e883af3e0",
   "metadata": {},
   "outputs": [],
   "source": [
    "cmd = \"\"\"\n",
    "SELECT t.author_name, t.interval_start_dt\n",
    "FROM\n",
    "(\n",
    "    SELECT\n",
    "        author_name,\n",
    "        created_at,\n",
    "        1 AS total,\n",
    "        toStartOfInterval(created_at, toIntervalDay(1)) AS interval_start_dt,\n",
    "        sum(total) OVER (PARTITION BY author_name, interval_start_dt ORDER BY created_at ASC) AS sum_commits\n",
    "    FROM gharchive.commits\n",
    "    ORDER BY\n",
    "        author_name ASC,\n",
    "        interval_start_dt ASC \n",
    "            WITH FILL \n",
    "            FROM toUnixTimestamp('{}') \n",
    "            TO toUnixTimestamp('{}') \n",
    "            STEP toIntervalDay(1)\n",
    ") AS t\n",
    "WHERE sum_commits = 0\n",
    "\"\"\".format(\n",
    "    dates_df['min_created_at'][0].strftime(\"%F\"),\n",
    "    (dates_df['max_created_at'][0] + timedelta(days=1)).strftime(\"%F\")\n",
    ")"
   ]
  },
  {
   "cell_type": "code",
   "execution_count": 54,
   "id": "5a801d75-f8e0-4a4c-8c17-4092e5bb5359",
   "metadata": {},
   "outputs": [],
   "source": [
    "df = client.query_df(query=cmd)"
   ]
  },
  {
   "cell_type": "code",
   "execution_count": 55,
   "id": "b9cc21d5-cfb8-41e1-9976-17c79be063a6",
   "metadata": {
    "scrolled": true
   },
   "outputs": [
    {
     "data": {
      "text/html": [
       "<div>\n",
       "<style scoped>\n",
       "    .dataframe tbody tr th:only-of-type {\n",
       "        vertical-align: middle;\n",
       "    }\n",
       "\n",
       "    .dataframe tbody tr th {\n",
       "        vertical-align: top;\n",
       "    }\n",
       "\n",
       "    .dataframe thead th {\n",
       "        text-align: right;\n",
       "    }\n",
       "</style>\n",
       "<table border=\"1\" class=\"dataframe\">\n",
       "  <thead>\n",
       "    <tr style=\"text-align: right;\">\n",
       "      <th></th>\n",
       "      <th>author_name</th>\n",
       "      <th>interval_start_dt</th>\n",
       "    </tr>\n",
       "  </thead>\n",
       "  <tbody>\n",
       "    <tr>\n",
       "      <th>0</th>\n",
       "      <td>! Lucam</td>\n",
       "      <td>2023-07-19</td>\n",
       "    </tr>\n",
       "    <tr>\n",
       "      <th>1</th>\n",
       "      <td>! Lucam</td>\n",
       "      <td>2023-07-21</td>\n",
       "    </tr>\n",
       "    <tr>\n",
       "      <th>2</th>\n",
       "      <td>! Ruwin.zkr</td>\n",
       "      <td>2023-07-20</td>\n",
       "    </tr>\n",
       "    <tr>\n",
       "      <th>3</th>\n",
       "      <td>! Ruwin.zkr</td>\n",
       "      <td>2023-07-21</td>\n",
       "    </tr>\n",
       "    <tr>\n",
       "      <th>4</th>\n",
       "      <td>! Rxin</td>\n",
       "      <td>2023-07-19</td>\n",
       "    </tr>\n",
       "    <tr>\n",
       "      <th>...</th>\n",
       "      <td>...</td>\n",
       "      <td>...</td>\n",
       "    </tr>\n",
       "    <tr>\n",
       "      <th>1233502</th>\n",
       "      <td>🤖github-actions🍦</td>\n",
       "      <td>2023-07-20</td>\n",
       "    </tr>\n",
       "    <tr>\n",
       "      <th>1233503</th>\n",
       "      <td>🤖github-actions🍦</td>\n",
       "      <td>2023-07-21</td>\n",
       "    </tr>\n",
       "    <tr>\n",
       "      <th>1233504</th>\n",
       "      <td>🦄Pegasus (DarkStar☀)</td>\n",
       "      <td>2023-07-21</td>\n",
       "    </tr>\n",
       "    <tr>\n",
       "      <th>1233505</th>\n",
       "      <td>🦉🤖 Safe Bot</td>\n",
       "      <td>2023-07-19</td>\n",
       "    </tr>\n",
       "    <tr>\n",
       "      <th>1233506</th>\n",
       "      <td>🦉🤖 Safe Bot</td>\n",
       "      <td>2023-07-20</td>\n",
       "    </tr>\n",
       "  </tbody>\n",
       "</table>\n",
       "<p>1233507 rows × 2 columns</p>\n",
       "</div>"
      ],
      "text/plain": [
       "                  author_name interval_start_dt\n",
       "0                     ! Lucam        2023-07-19\n",
       "1                     ! Lucam        2023-07-21\n",
       "2                 ! Ruwin.zkr        2023-07-20\n",
       "3                 ! Ruwin.zkr        2023-07-21\n",
       "4                      ! Rxin        2023-07-19\n",
       "...                       ...               ...\n",
       "1233502      🤖github-actions🍦        2023-07-20\n",
       "1233503      🤖github-actions🍦        2023-07-21\n",
       "1233504  🦄Pegasus (DarkStar☀)        2023-07-21\n",
       "1233505           🦉🤖 Safe Bot        2023-07-19\n",
       "1233506           🦉🤖 Safe Bot        2023-07-20\n",
       "\n",
       "[1233507 rows x 2 columns]"
      ]
     },
     "execution_count": 55,
     "metadata": {},
     "output_type": "execute_result"
    }
   ],
   "source": [
    "df"
   ]
  },
  {
   "cell_type": "code",
   "execution_count": 56,
   "id": "7e490771-abd6-40e5-a743-0f05ba4feebe",
   "metadata": {},
   "outputs": [],
   "source": [
    "now = datetime.now()"
   ]
  },
  {
   "cell_type": "code",
   "execution_count": 57,
   "id": "41ecc1a6-e43a-42fc-afa5-aedd6d4b5f03",
   "metadata": {},
   "outputs": [],
   "source": [
    "df.to_csv(\"./commits_lt1_{}.csv\".format(now.strftime(\"%F\")))"
   ]
  },
  {
   "cell_type": "markdown",
   "id": "3282c425-a33b-4286-884f-91065469594f",
   "metadata": {},
   "source": [
    "## Metric 4. Total Developers grouped by gender"
   ]
  },
  {
   "cell_type": "markdown",
   "id": "3e882dc1-540d-497f-a037-b8afe4f283c7",
   "metadata": {},
   "source": [
    "Metric is skipped as there is no such data to be referenced from gharchive's datasets.\n",
    "\n",
    "The only possible way is to crawl each individual's author/github user's pronouns, but that's a chore that definetely requires a serious discussion about epic's requirements."
   ]
  },
  {
   "cell_type": "markdown",
   "id": "47ef1908-1e01-4371-b11e-0c7c6598020a",
   "metadata": {},
   "source": [
    "## Metric 5. Projects with more than 10 members"
   ]
  },
  {
   "cell_type": "markdown",
   "id": "2978d171-e473-494c-a3af-0a08c77b2c91",
   "metadata": {},
   "source": [
    "Total projects with more than 10 members;\n",
    "\n",
    "__NOTE__!\n",
    "* We do not consider forks / same repo name across different users as THE SAME project. That results in grouping by repo_name_full, not chunked repo_name."
   ]
  },
  {
   "cell_type": "code",
   "execution_count": 58,
   "id": "fc450576-f9bf-4689-a3d8-05296770c9b6",
   "metadata": {},
   "outputs": [],
   "source": [
    "cmd = \"\"\"\n",
    "SELECT\n",
    "    repo_name,\n",
    "    repo_name_full,\n",
    "    countDistinct(member_login) AS total_members\n",
    "FROM gharchive.members\n",
    "GROUP BY\n",
    "    repo_name,\n",
    "    repo_name_full\n",
    "HAVING total_members > 10\n",
    "ORDER BY \n",
    "    total_members DESC,\n",
    "    repo_name ASC\n",
    "\"\"\""
   ]
  },
  {
   "cell_type": "code",
   "execution_count": 59,
   "id": "a197cd02-8460-4a59-9e33-ff40bc4db066",
   "metadata": {},
   "outputs": [],
   "source": [
    "df = client.query_df(query=cmd)"
   ]
  },
  {
   "cell_type": "code",
   "execution_count": 60,
   "id": "440de135-c51c-4b7a-9499-af621e74cd31",
   "metadata": {
    "scrolled": true
   },
   "outputs": [
    {
     "data": {
      "text/html": [
       "<div>\n",
       "<style scoped>\n",
       "    .dataframe tbody tr th:only-of-type {\n",
       "        vertical-align: middle;\n",
       "    }\n",
       "\n",
       "    .dataframe tbody tr th {\n",
       "        vertical-align: top;\n",
       "    }\n",
       "\n",
       "    .dataframe thead th {\n",
       "        text-align: right;\n",
       "    }\n",
       "</style>\n",
       "<table border=\"1\" class=\"dataframe\">\n",
       "  <thead>\n",
       "    <tr style=\"text-align: right;\">\n",
       "      <th></th>\n",
       "      <th>repo_name</th>\n",
       "      <th>repo_name_full</th>\n",
       "      <th>total_members</th>\n",
       "    </tr>\n",
       "  </thead>\n",
       "  <tbody>\n",
       "    <tr>\n",
       "      <th>0</th>\n",
       "      <td>Metodos_numerico</td>\n",
       "      <td>osvinfor/Metodos_numerico</td>\n",
       "      <td>30</td>\n",
       "    </tr>\n",
       "    <tr>\n",
       "      <th>1</th>\n",
       "      <td>Parle-Agro</td>\n",
       "      <td>rongalimanikanta/Parle-Agro</td>\n",
       "      <td>30</td>\n",
       "    </tr>\n",
       "    <tr>\n",
       "      <th>2</th>\n",
       "      <td>open-source-in-nigeria</td>\n",
       "      <td>adebowale-akinola/open-source-in-nigeria</td>\n",
       "      <td>29</td>\n",
       "    </tr>\n",
       "    <tr>\n",
       "      <th>3</th>\n",
       "      <td>AMUL</td>\n",
       "      <td>Poojitha-2822/AMUL</td>\n",
       "      <td>28</td>\n",
       "    </tr>\n",
       "    <tr>\n",
       "      <th>4</th>\n",
       "      <td>curso-serasa</td>\n",
       "      <td>MarciusMcflay/curso-serasa</td>\n",
       "      <td>28</td>\n",
       "    </tr>\n",
       "    <tr>\n",
       "      <th>5</th>\n",
       "      <td>Prodapt</td>\n",
       "      <td>Karthi-018/Prodapt</td>\n",
       "      <td>27</td>\n",
       "    </tr>\n",
       "    <tr>\n",
       "      <th>6</th>\n",
       "      <td>HIMALAYAHERBAL</td>\n",
       "      <td>KDEMUDUHARIPRIYA/HIMALAYAHERBAL</td>\n",
       "      <td>23</td>\n",
       "    </tr>\n",
       "    <tr>\n",
       "      <th>7</th>\n",
       "      <td>Himalaya-Herbal</td>\n",
       "      <td>KDEMUDUHARIPRIYA/Himalaya-Herbal</td>\n",
       "      <td>21</td>\n",
       "    </tr>\n",
       "    <tr>\n",
       "      <th>8</th>\n",
       "      <td>HIMALAYA-HERBALS</td>\n",
       "      <td>Parameswari2002/HIMALAYA-HERBALS</td>\n",
       "      <td>20</td>\n",
       "    </tr>\n",
       "    <tr>\n",
       "      <th>9</th>\n",
       "      <td>Lakme</td>\n",
       "      <td>Balaji-1805/Lakme</td>\n",
       "      <td>20</td>\n",
       "    </tr>\n",
       "    <tr>\n",
       "      <th>10</th>\n",
       "      <td>project_sandbox</td>\n",
       "      <td>AndreiBakhtinov/project_sandbox</td>\n",
       "      <td>19</td>\n",
       "    </tr>\n",
       "    <tr>\n",
       "      <th>11</th>\n",
       "      <td>Havells</td>\n",
       "      <td>Yasodha-devi/Havells</td>\n",
       "      <td>18</td>\n",
       "    </tr>\n",
       "    <tr>\n",
       "      <th>12</th>\n",
       "      <td>kissan</td>\n",
       "      <td>manjusri1230/kissan</td>\n",
       "      <td>18</td>\n",
       "    </tr>\n",
       "    <tr>\n",
       "      <th>13</th>\n",
       "      <td>Bootcamp58</td>\n",
       "      <td>MaxRomanov5/Bootcamp58</td>\n",
       "      <td>17</td>\n",
       "    </tr>\n",
       "    <tr>\n",
       "      <th>14</th>\n",
       "      <td>demo</td>\n",
       "      <td>Qanith/demo</td>\n",
       "      <td>17</td>\n",
       "    </tr>\n",
       "    <tr>\n",
       "      <th>15</th>\n",
       "      <td>helloworld</td>\n",
       "      <td>khachiyathu/helloworld</td>\n",
       "      <td>17</td>\n",
       "    </tr>\n",
       "    <tr>\n",
       "      <th>16</th>\n",
       "      <td>22239_collaboration</td>\n",
       "      <td>vao49/22239_collaboration</td>\n",
       "      <td>15</td>\n",
       "    </tr>\n",
       "    <tr>\n",
       "      <th>17</th>\n",
       "      <td>AMUL</td>\n",
       "      <td>kethadurgavenkata/AMUL</td>\n",
       "      <td>15</td>\n",
       "    </tr>\n",
       "    <tr>\n",
       "      <th>18</th>\n",
       "      <td>HIMALAYAHERBALS</td>\n",
       "      <td>sandhyatalari/HIMALAYAHERBALS</td>\n",
       "      <td>15</td>\n",
       "    </tr>\n",
       "    <tr>\n",
       "      <th>19</th>\n",
       "      <td>LAKME</td>\n",
       "      <td>HARSHA20136/LAKME</td>\n",
       "      <td>15</td>\n",
       "    </tr>\n",
       "    <tr>\n",
       "      <th>20</th>\n",
       "      <td>LAKME</td>\n",
       "      <td>Saketh1678/LAKME</td>\n",
       "      <td>15</td>\n",
       "    </tr>\n",
       "    <tr>\n",
       "      <th>21</th>\n",
       "      <td>casadeprestamos</td>\n",
       "      <td>Juliov34/casadeprestamos</td>\n",
       "      <td>15</td>\n",
       "    </tr>\n",
       "    <tr>\n",
       "      <th>22</th>\n",
       "      <td>doris-github</td>\n",
       "      <td>T-Zahil/doris-github</td>\n",
       "      <td>15</td>\n",
       "    </tr>\n",
       "    <tr>\n",
       "      <th>23</th>\n",
       "      <td>kissan</td>\n",
       "      <td>lokeshboddeda1/kissan</td>\n",
       "      <td>15</td>\n",
       "    </tr>\n",
       "    <tr>\n",
       "      <th>24</th>\n",
       "      <td>VectorWebDesignDevelopmentJul262023</td>\n",
       "      <td>doghead71/VectorWebDesignDevelopmentJul262023</td>\n",
       "      <td>14</td>\n",
       "    </tr>\n",
       "    <tr>\n",
       "      <th>25</th>\n",
       "      <td>gelato-gusti</td>\n",
       "      <td>dezGusty/gelato-gusti</td>\n",
       "      <td>14</td>\n",
       "    </tr>\n",
       "    <tr>\n",
       "      <th>26</th>\n",
       "      <td>Module-WS</td>\n",
       "      <td>2023-05-22-POEI-JAVA-SOPRA/Module-WS</td>\n",
       "      <td>13</td>\n",
       "    </tr>\n",
       "    <tr>\n",
       "      <th>27</th>\n",
       "      <td>ajc</td>\n",
       "      <td>peutt/ajc</td>\n",
       "      <td>13</td>\n",
       "    </tr>\n",
       "    <tr>\n",
       "      <th>28</th>\n",
       "      <td>atech-devops-june-2023</td>\n",
       "      <td>nirch/atech-devops-june-2023</td>\n",
       "      <td>13</td>\n",
       "    </tr>\n",
       "    <tr>\n",
       "      <th>29</th>\n",
       "      <td>di-calc</td>\n",
       "      <td>christian-faber/di-calc</td>\n",
       "      <td>13</td>\n",
       "    </tr>\n",
       "    <tr>\n",
       "      <th>30</th>\n",
       "      <td>studyGit</td>\n",
       "      <td>ChezVan/studyGit</td>\n",
       "      <td>13</td>\n",
       "    </tr>\n",
       "    <tr>\n",
       "      <th>31</th>\n",
       "      <td>wd-42</td>\n",
       "      <td>BasharAlwarad/wd-42</td>\n",
       "      <td>13</td>\n",
       "    </tr>\n",
       "    <tr>\n",
       "      <th>32</th>\n",
       "      <td>Ankit-Kum.github.io</td>\n",
       "      <td>Ankit-Kum/Ankit-Kum.github.io</td>\n",
       "      <td>12</td>\n",
       "    </tr>\n",
       "    <tr>\n",
       "      <th>33</th>\n",
       "      <td>Git-Assignment-Q2</td>\n",
       "      <td>mohitksoniLumiq/Git-Assignment-Q2</td>\n",
       "      <td>12</td>\n",
       "    </tr>\n",
       "    <tr>\n",
       "      <th>34</th>\n",
       "      <td>HimalayaHerbal</td>\n",
       "      <td>pallipriyanka/HimalayaHerbal</td>\n",
       "      <td>12</td>\n",
       "    </tr>\n",
       "    <tr>\n",
       "      <th>35</th>\n",
       "      <td>homework-week4</td>\n",
       "      <td>trducng/homework-week4</td>\n",
       "      <td>12</td>\n",
       "    </tr>\n",
       "    <tr>\n",
       "      <th>36</th>\n",
       "      <td>humanboosterbooks</td>\n",
       "      <td>Symfomany/humanboosterbooks</td>\n",
       "      <td>12</td>\n",
       "    </tr>\n",
       "    <tr>\n",
       "      <th>37</th>\n",
       "      <td>streample-2023</td>\n",
       "      <td>dezGusty/streample-2023</td>\n",
       "      <td>12</td>\n",
       "    </tr>\n",
       "    <tr>\n",
       "      <th>38</th>\n",
       "      <td>Easy-Transformer</td>\n",
       "      <td>redwoodresearch/Easy-Transformer</td>\n",
       "      <td>11</td>\n",
       "    </tr>\n",
       "    <tr>\n",
       "      <th>39</th>\n",
       "      <td>Pasc_Backend_Alumni_2.0</td>\n",
       "      <td>PICT-ACM-Student-Chapter/Pasc_Backend_Alumni_2.0</td>\n",
       "      <td>11</td>\n",
       "    </tr>\n",
       "    <tr>\n",
       "      <th>40</th>\n",
       "      <td>Rocket.net</td>\n",
       "      <td>Pancratzia/Rocket.net</td>\n",
       "      <td>11</td>\n",
       "    </tr>\n",
       "    <tr>\n",
       "      <th>41</th>\n",
       "      <td>SQL_for_data_analytics</td>\n",
       "      <td>Datafyde/SQL_for_data_analytics</td>\n",
       "      <td>11</td>\n",
       "    </tr>\n",
       "    <tr>\n",
       "      <th>42</th>\n",
       "      <td>Scheduler-Frontend</td>\n",
       "      <td>RevProfessionals/Scheduler-Frontend</td>\n",
       "      <td>11</td>\n",
       "    </tr>\n",
       "    <tr>\n",
       "      <th>43</th>\n",
       "      <td>The-Bedrock-Add-On</td>\n",
       "      <td>Bedrock-Add-Ons/The-Bedrock-Add-On</td>\n",
       "      <td>11</td>\n",
       "    </tr>\n",
       "    <tr>\n",
       "      <th>44</th>\n",
       "      <td>UA-1041.Java-Fundamentals</td>\n",
       "      <td>vasyldmitrovich/UA-1041.Java-Fundamentals</td>\n",
       "      <td>11</td>\n",
       "    </tr>\n",
       "    <tr>\n",
       "      <th>45</th>\n",
       "      <td>clase-branch-1</td>\n",
       "      <td>cesarju/clase-branch-1</td>\n",
       "      <td>11</td>\n",
       "    </tr>\n",
       "    <tr>\n",
       "      <th>46</th>\n",
       "      <td>connectedhomeip</td>\n",
       "      <td>project-chip/connectedhomeip</td>\n",
       "      <td>11</td>\n",
       "    </tr>\n",
       "    <tr>\n",
       "      <th>47</th>\n",
       "      <td>interp</td>\n",
       "      <td>redwoodresearch/interp</td>\n",
       "      <td>11</td>\n",
       "    </tr>\n",
       "    <tr>\n",
       "      <th>48</th>\n",
       "      <td>testegitflow</td>\n",
       "      <td>estrucmarcelo/testegitflow</td>\n",
       "      <td>11</td>\n",
       "    </tr>\n",
       "    <tr>\n",
       "      <th>49</th>\n",
       "      <td>workshop_git</td>\n",
       "      <td>fesasaki/workshop_git</td>\n",
       "      <td>11</td>\n",
       "    </tr>\n",
       "  </tbody>\n",
       "</table>\n",
       "</div>"
      ],
      "text/plain": [
       "                              repo_name  \\\n",
       "0                      Metodos_numerico   \n",
       "1                            Parle-Agro   \n",
       "2                open-source-in-nigeria   \n",
       "3                                  AMUL   \n",
       "4                          curso-serasa   \n",
       "5                               Prodapt   \n",
       "6                        HIMALAYAHERBAL   \n",
       "7                       Himalaya-Herbal   \n",
       "8                      HIMALAYA-HERBALS   \n",
       "9                                 Lakme   \n",
       "10                      project_sandbox   \n",
       "11                              Havells   \n",
       "12                               kissan   \n",
       "13                           Bootcamp58   \n",
       "14                                 demo   \n",
       "15                           helloworld   \n",
       "16                  22239_collaboration   \n",
       "17                                 AMUL   \n",
       "18                      HIMALAYAHERBALS   \n",
       "19                                LAKME   \n",
       "20                                LAKME   \n",
       "21                      casadeprestamos   \n",
       "22                         doris-github   \n",
       "23                               kissan   \n",
       "24  VectorWebDesignDevelopmentJul262023   \n",
       "25                         gelato-gusti   \n",
       "26                            Module-WS   \n",
       "27                                  ajc   \n",
       "28               atech-devops-june-2023   \n",
       "29                              di-calc   \n",
       "30                             studyGit   \n",
       "31                                wd-42   \n",
       "32                  Ankit-Kum.github.io   \n",
       "33                    Git-Assignment-Q2   \n",
       "34                       HimalayaHerbal   \n",
       "35                       homework-week4   \n",
       "36                    humanboosterbooks   \n",
       "37                       streample-2023   \n",
       "38                     Easy-Transformer   \n",
       "39              Pasc_Backend_Alumni_2.0   \n",
       "40                           Rocket.net   \n",
       "41               SQL_for_data_analytics   \n",
       "42                   Scheduler-Frontend   \n",
       "43                   The-Bedrock-Add-On   \n",
       "44            UA-1041.Java-Fundamentals   \n",
       "45                       clase-branch-1   \n",
       "46                      connectedhomeip   \n",
       "47                               interp   \n",
       "48                         testegitflow   \n",
       "49                         workshop_git   \n",
       "\n",
       "                                      repo_name_full  total_members  \n",
       "0                          osvinfor/Metodos_numerico             30  \n",
       "1                        rongalimanikanta/Parle-Agro             30  \n",
       "2           adebowale-akinola/open-source-in-nigeria             29  \n",
       "3                                 Poojitha-2822/AMUL             28  \n",
       "4                         MarciusMcflay/curso-serasa             28  \n",
       "5                                 Karthi-018/Prodapt             27  \n",
       "6                    KDEMUDUHARIPRIYA/HIMALAYAHERBAL             23  \n",
       "7                   KDEMUDUHARIPRIYA/Himalaya-Herbal             21  \n",
       "8                   Parameswari2002/HIMALAYA-HERBALS             20  \n",
       "9                                  Balaji-1805/Lakme             20  \n",
       "10                   AndreiBakhtinov/project_sandbox             19  \n",
       "11                              Yasodha-devi/Havells             18  \n",
       "12                               manjusri1230/kissan             18  \n",
       "13                            MaxRomanov5/Bootcamp58             17  \n",
       "14                                       Qanith/demo             17  \n",
       "15                            khachiyathu/helloworld             17  \n",
       "16                         vao49/22239_collaboration             15  \n",
       "17                            kethadurgavenkata/AMUL             15  \n",
       "18                     sandhyatalari/HIMALAYAHERBALS             15  \n",
       "19                                 HARSHA20136/LAKME             15  \n",
       "20                                  Saketh1678/LAKME             15  \n",
       "21                          Juliov34/casadeprestamos             15  \n",
       "22                              T-Zahil/doris-github             15  \n",
       "23                             lokeshboddeda1/kissan             15  \n",
       "24     doghead71/VectorWebDesignDevelopmentJul262023             14  \n",
       "25                             dezGusty/gelato-gusti             14  \n",
       "26              2023-05-22-POEI-JAVA-SOPRA/Module-WS             13  \n",
       "27                                         peutt/ajc             13  \n",
       "28                      nirch/atech-devops-june-2023             13  \n",
       "29                           christian-faber/di-calc             13  \n",
       "30                                  ChezVan/studyGit             13  \n",
       "31                               BasharAlwarad/wd-42             13  \n",
       "32                     Ankit-Kum/Ankit-Kum.github.io             12  \n",
       "33                 mohitksoniLumiq/Git-Assignment-Q2             12  \n",
       "34                      pallipriyanka/HimalayaHerbal             12  \n",
       "35                            trducng/homework-week4             12  \n",
       "36                       Symfomany/humanboosterbooks             12  \n",
       "37                           dezGusty/streample-2023             12  \n",
       "38                  redwoodresearch/Easy-Transformer             11  \n",
       "39  PICT-ACM-Student-Chapter/Pasc_Backend_Alumni_2.0             11  \n",
       "40                             Pancratzia/Rocket.net             11  \n",
       "41                   Datafyde/SQL_for_data_analytics             11  \n",
       "42               RevProfessionals/Scheduler-Frontend             11  \n",
       "43                Bedrock-Add-Ons/The-Bedrock-Add-On             11  \n",
       "44         vasyldmitrovich/UA-1041.Java-Fundamentals             11  \n",
       "45                            cesarju/clase-branch-1             11  \n",
       "46                      project-chip/connectedhomeip             11  \n",
       "47                            redwoodresearch/interp             11  \n",
       "48                        estrucmarcelo/testegitflow             11  \n",
       "49                             fesasaki/workshop_git             11  "
      ]
     },
     "execution_count": 60,
     "metadata": {},
     "output_type": "execute_result"
    }
   ],
   "source": [
    "df"
   ]
  },
  {
   "cell_type": "code",
   "execution_count": 61,
   "id": "ffe75c02-1167-4a05-bc27-5fc1a92c27da",
   "metadata": {},
   "outputs": [],
   "source": [
    "now = datetime.now()"
   ]
  },
  {
   "cell_type": "code",
   "execution_count": 62,
   "id": "8c3d0a4e-7a97-47e8-ace3-9f1d65dee113",
   "metadata": {},
   "outputs": [],
   "source": [
    "df.to_csv(\"./projects_gt10_{}.csv\".format(now.strftime(\"%F\")))"
   ]
  },
  {
   "cell_type": "code",
   "execution_count": null,
   "id": "c331e935-d961-4352-b3d6-b03dbb4373c2",
   "metadata": {},
   "outputs": [],
   "source": []
  }
 ],
 "metadata": {
  "kernelspec": {
   "display_name": "Python 3 (ipykernel)",
   "language": "python",
   "name": "python3"
  },
  "language_info": {
   "codemirror_mode": {
    "name": "ipython",
    "version": 3
   },
   "file_extension": ".py",
   "mimetype": "text/x-python",
   "name": "python",
   "nbconvert_exporter": "python",
   "pygments_lexer": "ipython3",
   "version": "3.11.4"
  }
 },
 "nbformat": 4,
 "nbformat_minor": 5
}
